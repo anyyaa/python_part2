{
 "cells": [
  {
   "cell_type": "code",
   "execution_count": 1,
   "id": "eb9b3fd5-e947-4fc2-8764-dfb02c9e9a08",
   "metadata": {},
   "outputs": [],
   "source": [
    "import numpy as np\n",
    "import pandas as pd\n"
   ]
  },
  {
   "cell_type": "code",
   "execution_count": 2,
   "id": "48602ffa-3993-4790-9d5a-dc135d2848db",
   "metadata": {},
   "outputs": [
    {
     "name": "stdout",
     "output_type": "stream",
     "text": [
      "0    0.25\n",
      "1    0.50\n",
      "2    0.75\n",
      "3    1.00\n",
      "dtype: float64\n",
      "<class 'pandas.core.series.Series'>\n"
     ]
    }
   ],
   "source": [
    "# series, dataframe & index \n",
    "# SERIES\n",
    "data = pd.Series([0.25, 0.5, 0.75, 1.0])\n",
    "print(data)\n",
    "print(type(data))"
   ]
  },
  {
   "cell_type": "code",
   "execution_count": 4,
   "id": "82cd42af-4c37-469a-98af-7ec6bf98e1ab",
   "metadata": {},
   "outputs": [
    {
     "name": "stdout",
     "output_type": "stream",
     "text": [
      "[0.25 0.5  0.75 1.  ]\n",
      "<class 'numpy.ndarray'>\n",
      "RangeIndex(start=0, stop=4, step=1)\n",
      "<class 'pandas.core.indexes.range.RangeIndex'>\n"
     ]
    }
   ],
   "source": [
    "print(data.values)\n",
    "print(type(data.values))\n",
    "print(data.index)\n",
    "print(type(data.index))"
   ]
  },
  {
   "cell_type": "code",
   "execution_count": 6,
   "id": "7cc6b52a-d599-4d51-967b-da8e4834f940",
   "metadata": {},
   "outputs": [
    {
     "name": "stdout",
     "output_type": "stream",
     "text": [
      "0.25\n",
      "1    0.50\n",
      "2    0.75\n",
      "dtype: float64\n"
     ]
    }
   ],
   "source": [
    "data = pd.Series([0.25, 0.5, 0.75, 1.0])\n",
    "print(data[0])\n",
    "print(data[1:3])"
   ]
  },
  {
   "cell_type": "code",
   "execution_count": 7,
   "id": "38ceb0f8-697f-4553-8152-edee6f8c5151",
   "metadata": {},
   "outputs": [],
   "source": [
    "data = pd.Series([0.25, 0.5, 0.75, 1.0], index=['a', 'b', 'c', 'd'])"
   ]
  },
  {
   "cell_type": "code",
   "execution_count": 8,
   "id": "f639ac4d-532d-4f38-bdf8-cdad297d7cc5",
   "metadata": {},
   "outputs": [
    {
     "name": "stdout",
     "output_type": "stream",
     "text": [
      "a    0.25\n",
      "b    0.50\n",
      "c    0.75\n",
      "d    1.00\n",
      "dtype: float64\n"
     ]
    }
   ],
   "source": [
    "print(data)"
   ]
  },
  {
   "cell_type": "code",
   "execution_count": 12,
   "id": "65841ba1-ee35-4bab-ba89-dbd7c2f79a58",
   "metadata": {},
   "outputs": [
    {
     "name": "stdout",
     "output_type": "stream",
     "text": [
      "0.25\n",
      "b    0.50\n",
      "c    0.75\n",
      "d    1.00\n",
      "dtype: float64\n",
      "<class 'pandas.core.indexes.base.Index'>\n"
     ]
    }
   ],
   "source": [
    "print(data['a'])\n",
    "print(data['b':'d'])\n",
    "print(type(data.index))"
   ]
  },
  {
   "cell_type": "code",
   "execution_count": 16,
   "id": "ee2d0d9f-d363-4731-8cca-92498ffb3654",
   "metadata": {},
   "outputs": [
    {
     "name": "stdout",
     "output_type": "stream",
     "text": [
      "0.25\n",
      "10    0.50\n",
      "7     0.75\n",
      "d     1.00\n",
      "dtype: float64\n"
     ]
    }
   ],
   "source": [
    "data = pd.Series([0.25, 0.5, 0.75, 1.0], index=[1, 10, 7, 'd'])\n",
    "print(data[1])\n",
    "print(data[10:'d'])"
   ]
  },
  {
   "cell_type": "code",
   "execution_count": 18,
   "id": "a0758490-3693-4068-be82-aa66e5ce488e",
   "metadata": {},
   "outputs": [
    {
     "name": "stdout",
     "output_type": "stream",
     "text": [
      "city1    1000\n",
      "city2    1001\n",
      "city3    1002\n",
      "city4    1003\n",
      "city5    1004\n",
      "city6    1005\n",
      "dtype: int64\n",
      "1003\n",
      "city4    1003\n",
      "city5    1004\n",
      "dtype: int64\n"
     ]
    }
   ],
   "source": [
    "population_dict = {'city1':1000, \n",
    "                   'city2':1001,\n",
    "                   'city3':1002, \n",
    "                   'city4':1003,\n",
    "                   'city5':1004, \n",
    "                   'city6':1005,\n",
    "                  }\n",
    "population = pd.Series(population_dict)\n",
    "print(population)\n",
    "print(population['city4'])\n",
    "print(population['city4':'city5'])\n",
    "# для создания series можно использовать: списки python или массивы numpy,\n",
    "# cкалярные значения, словари"
   ]
  },
  {
   "cell_type": "code",
   "execution_count": 20,
   "id": "32a42c5a-44bf-4419-8387-dc00e6346ced",
   "metadata": {},
   "outputs": [
    {
     "name": "stdout",
     "output_type": "stream",
     "text": [
      "       population1  area1\n",
      "city1         1000   9991\n",
      "city2         1001   9992\n",
      "city3         1002   9993\n",
      "city4         1003   9994\n",
      "city5         1004   9995\n",
      "city6         1005   9996\n",
      "[[1000 9991]\n",
      " [1001 9992]\n",
      " [1002 9993]\n",
      " [1003 9994]\n",
      " [1004 9995]\n",
      " [1005 9996]]\n",
      "Index(['city1', 'city2', 'city3', 'city4', 'city5', 'city6'], dtype='object')\n",
      "Index(['population1', 'area1'], dtype='object')\n"
     ]
    }
   ],
   "source": [
    "# dataframe - двумерный массив с явно определенными индексами. \n",
    "# последовательность согласованных объектов series\n",
    "\n",
    "area_dict = {'city1':9991, \n",
    "                   'city2':9992,\n",
    "                   'city3':9993, \n",
    "                   'city4':9994,\n",
    "                   'city5':9995, \n",
    "                   'city6':9996,\n",
    "                  }\n",
    "population = pd.Series(population_dict)\n",
    "area = pd.Series(area_dict)\n",
    "\n",
    "states = pd.DataFrame({'population1': population, 'area1':area})\n",
    "print(states)\n",
    "print(states.values)\n",
    "print(states.index)\n",
    "print(states.columns)"
   ]
  },
  {
   "cell_type": "code",
   "execution_count": 21,
   "id": "de0707c2-fb19-4bf0-92a6-4c7dc452d9ec",
   "metadata": {},
   "outputs": [
    {
     "name": "stdout",
     "output_type": "stream",
     "text": [
      "<class 'numpy.ndarray'>\n",
      "<class 'pandas.core.indexes.base.Index'>\n",
      "<class 'pandas.core.indexes.base.Index'>\n"
     ]
    }
   ],
   "source": [
    "print(type(states.values))\n",
    "print(type(states.index))\n",
    "print(type(states.columns))"
   ]
  },
  {
   "cell_type": "code",
   "execution_count": 24,
   "id": "05201ebb-2f27-4c4a-b869-c5a9261a9018",
   "metadata": {},
   "outputs": [
    {
     "name": "stdout",
     "output_type": "stream",
     "text": [
      "city1    9991\n",
      "city2    9992\n",
      "city3    9993\n",
      "city4    9994\n",
      "city5    9995\n",
      "city6    9996\n",
      "Name: area1, dtype: int64\n"
     ]
    }
   ],
   "source": [
    "print(states['area1'])\n",
    "# dataframe способы создания: через series, словари, словари объектов series,\n",
    "# двумерные массив numpy, структурированный массив numpy"
   ]
  },
  {
   "cell_type": "code",
   "execution_count": 25,
   "id": "94879d02-4bdb-46fd-a4d6-30126d0454a9",
   "metadata": {},
   "outputs": [],
   "source": [
    "# index - способ организации ссылки на данные объектов series и dataframe \n",
    "# index - неизменяем, упорядочен, яв-ся\n",
    "# мультимножеством (могут быть повторяющиеся значения)"
   ]
  },
  {
   "cell_type": "code",
   "execution_count": 26,
   "id": "a73e8a16-cec0-4534-9d6e-fd1fb4cf713a",
   "metadata": {},
   "outputs": [
    {
     "name": "stdout",
     "output_type": "stream",
     "text": [
      "3\n",
      "Index([2, 5, 11], dtype='int64')\n"
     ]
    }
   ],
   "source": [
    "ind = pd.Index([2, 3, 5, 7, 11])\n",
    "print(ind[1])\n",
    "print(ind[::2])\n",
    "# index - следует соглашениям объекта set"
   ]
  },
  {
   "cell_type": "code",
   "execution_count": 27,
   "id": "595618e5-fcea-43d3-a6fd-c352c4f4b1ed",
   "metadata": {},
   "outputs": [
    {
     "name": "stdout",
     "output_type": "stream",
     "text": [
      "Index([2, 3, 4, 5], dtype='int64')\n"
     ]
    }
   ],
   "source": [
    "inda = pd.Index([1, 2, 3, 4, 5])\n",
    "indb = pd.Index([2, 3, 4, 5, 6])\n",
    "print(inda.intersection(indb))"
   ]
  },
  {
   "cell_type": "code",
   "execution_count": 29,
   "id": "2bdbca7c-cb71-42b4-bbbc-a7e82ed80d21",
   "metadata": {},
   "outputs": [
    {
     "name": "stdout",
     "output_type": "stream",
     "text": [
      "True\n",
      "False\n"
     ]
    }
   ],
   "source": [
    "# series выборка данных\n",
    "data = pd.Series([0.25, 0.5, 0.75, 1.0], index=['a', 'b', 'c', 'd'])\n",
    "print('a' in data)\n",
    "print('z' in data)"
   ]
  },
  {
   "cell_type": "code",
   "execution_count": 33,
   "id": "c5386fc7-626f-404f-95dc-80c349c13947",
   "metadata": {},
   "outputs": [
    {
     "name": "stdout",
     "output_type": "stream",
     "text": [
      "Index(['a', 'b', 'c', 'd'], dtype='object')\n",
      "[('a', 0.25), ('b', 0.5), ('c', 0.75), ('d', 1.0)]\n"
     ]
    }
   ],
   "source": [
    "print(data.keys())\n",
    "print(list(data.items()))"
   ]
  },
  {
   "cell_type": "code",
   "execution_count": 34,
   "id": "7fb36f51-138b-4c7d-9239-ea62a01290d5",
   "metadata": {},
   "outputs": [
    {
     "name": "stdout",
     "output_type": "stream",
     "text": [
      "a     100.00\n",
      "b       0.50\n",
      "c       0.75\n",
      "d       1.00\n",
      "z    1000.00\n",
      "dtype: float64\n"
     ]
    }
   ],
   "source": [
    "data['a'] = 100\n",
    "data['z'] = 1000\n",
    "print(data)\n",
    "# как словарь (выше)"
   ]
  },
  {
   "cell_type": "code",
   "execution_count": 38,
   "id": "5de6ddbc-b9bf-401c-a66f-509237c615c0",
   "metadata": {},
   "outputs": [
    {
     "name": "stdout",
     "output_type": "stream",
     "text": [
      "a    0.25\n",
      "b    0.50\n",
      "c    0.75\n",
      "dtype: float64\n",
      "a    0.25\n",
      "b    0.50\n",
      "dtype: float64\n",
      "c    0.75\n",
      "dtype: float64\n",
      "a    0.25\n",
      "d    1.00\n",
      "dtype: float64\n"
     ]
    }
   ],
   "source": [
    "# как одномерный массив\n",
    "data = pd.Series([0.25, 0.5, 0.75, 1.0], index=['a', 'b', 'c', 'd'])\n",
    "print(data['a':'c'])\n",
    "print(data[0:2])\n",
    "print(data[(data > 0.5) & (data < 1)])\n",
    "print(data[['a', 'd']])"
   ]
  },
  {
   "cell_type": "code",
   "execution_count": 39,
   "id": "2117ed55-12f1-4afd-a502-2bdeef32ba32",
   "metadata": {},
   "outputs": [
    {
     "name": "stdout",
     "output_type": "stream",
     "text": [
      "0.25\n",
      "0.25\n",
      "0.5\n"
     ]
    }
   ],
   "source": [
    "data = pd.Series([0.25, 0.5, 0.75, 1.0], index=[1, 3, 10, 15])\n",
    "print(data[1])\n",
    "print(data.loc[1])\n",
    "print(data.iloc[1])"
   ]
  },
  {
   "cell_type": "code",
   "execution_count": 43,
   "id": "bdcf254a-f83f-42a2-91db-e790d3eb26cc",
   "metadata": {},
   "outputs": [
    {
     "name": "stdout",
     "output_type": "stream",
     "text": [
      "       area  pop1\n",
      "city1  9991  1000\n",
      "city2  9992  1001\n",
      "city3  9993  1002\n",
      "city4  9994  1003\n",
      "city5  9995  1004\n",
      "city6  9996  1005\n"
     ]
    }
   ],
   "source": [
    "# dataframe выборка данных \n",
    "area = pd.Series({'city1':9991, \n",
    "                   'city2':9992,\n",
    "                   'city3':9993, \n",
    "                   'city4':9994,\n",
    "                   'city5':9995, \n",
    "                   'city6':9996,\n",
    "                  })\n",
    "pop = pd.Series({'city1':1000, \n",
    "                   'city2':1001,\n",
    "                   'city3':1002, \n",
    "                   'city4':1003,\n",
    "                   'city5':1004, \n",
    "                   'city6':1005,\n",
    "                  })\n",
    "data = pd.DataFrame({'area':area, 'pop1':pop})\n",
    "print(data)"
   ]
  },
  {
   "cell_type": "code",
   "execution_count": 41,
   "id": "c9af2e5f-992f-4cd9-b0c8-d5ee5e04d551",
   "metadata": {},
   "outputs": [
    {
     "name": "stdout",
     "output_type": "stream",
     "text": [
      "city1    9991\n",
      "city2    9992\n",
      "city3    9993\n",
      "city4    9994\n",
      "city5    9995\n",
      "city6    9996\n",
      "Name: area, dtype: int64\n"
     ]
    }
   ],
   "source": [
    "print(data.area)"
   ]
  },
  {
   "cell_type": "code",
   "execution_count": 44,
   "id": "201da5c7-3bcd-403e-9403-aef430acd3f8",
   "metadata": {},
   "outputs": [
    {
     "name": "stdout",
     "output_type": "stream",
     "text": [
      "True\n"
     ]
    }
   ],
   "source": [
    "print(data.pop1 is data['pop1'])\n",
    "# если бы назвали pop, результат был бы false"
   ]
  },
  {
   "cell_type": "code",
   "execution_count": null,
   "id": "746f4478-5db0-4428-9281-a2e788854dd1",
   "metadata": {},
   "outputs": [],
   "source": [
    "data['new'] = data['area1']\n",
    "print(data)"
   ]
  },
  {
   "cell_type": "code",
   "execution_count": 47,
   "id": "6f1d11b5-6d46-41bc-a30b-9254428680fa",
   "metadata": {},
   "outputs": [],
   "source": [
    "# как двумерный массив\n",
    "data = pd.DataFrame({\"area1\":area, \"pop1\": pop})"
   ]
  },
  {
   "cell_type": "code",
   "execution_count": 48,
   "id": "37ec535f-6d15-417b-95a3-3903464b9983",
   "metadata": {},
   "outputs": [
    {
     "name": "stdout",
     "output_type": "stream",
     "text": [
      "       area1  pop1\n",
      "city1   9991  1000\n",
      "city2   9992  1001\n",
      "city3   9993  1002\n",
      "city4   9994  1003\n",
      "city5   9995  1004\n",
      "city6   9996  1005\n",
      "[[9991 1000]\n",
      " [9992 1001]\n",
      " [9993 1002]\n",
      " [9994 1003]\n",
      " [9995 1004]\n",
      " [9996 1005]]\n",
      "       city1  city2  city3  city4  city5  city6\n",
      "area1   9991   9992   9993   9994   9995   9996\n",
      "pop1    1000   1001   1002   1003   1004   1005\n",
      "city1    9991\n",
      "city2    9992\n",
      "city3    9993\n",
      "city4    9994\n",
      "city5    9995\n",
      "city6    9996\n",
      "Name: area1, dtype: int64\n"
     ]
    }
   ],
   "source": [
    "print(data)\n",
    "print(data.values)\n",
    "print(data.T)\n",
    "print(data['area1'])"
   ]
  },
  {
   "cell_type": "code",
   "execution_count": 49,
   "id": "04df2ff5-7a01-4e75-8de8-14a8c56fdd93",
   "metadata": {},
   "outputs": [
    {
     "name": "stdout",
     "output_type": "stream",
     "text": [
      "[9991 1000]\n"
     ]
    }
   ],
   "source": [
    "print(data.values[0])"
   ]
  },
  {
   "cell_type": "code",
   "execution_count": 50,
   "id": "85d1b2e2-411a-4a18-b158-8ba9ffed6a10",
   "metadata": {},
   "outputs": [
    {
     "name": "stdout",
     "output_type": "stream",
     "text": [
      "[[9991 1000]\n",
      " [9992 1001]\n",
      " [9993 1002]]\n"
     ]
    }
   ],
   "source": [
    "print(data.values[0:3])"
   ]
  },
  {
   "cell_type": "code",
   "execution_count": 54,
   "id": "1e1dfd28-44fd-42ba-be5f-a77e7730d21a",
   "metadata": {},
   "outputs": [
    {
     "name": "stdout",
     "output_type": "stream",
     "text": [
      "       pop1\n",
      "city1  1000\n",
      "city2  1001\n",
      "city3  1002\n",
      "       pop1   pop\n",
      "city1  1000  1000\n",
      "city2  1001  1001\n",
      "city3  1002  1002\n",
      "city4  1003  1003\n"
     ]
    }
   ],
   "source": [
    "# атрибуты индикаторы \n",
    "data = pd.DataFrame({\"area1\":area, \"pop1\": pop, 'pop':pop})\n",
    "print(data.iloc[:3, 1:2])\n",
    "print(data.loc[:'city4', 'pop1':'pop'])\n"
   ]
  },
  {
   "cell_type": "code",
   "execution_count": 58,
   "id": "0de4dc1f-af8c-4558-a8c0-7947160f25dd",
   "metadata": {},
   "outputs": [
    {
     "name": "stdout",
     "output_type": "stream",
     "text": [
      "       area1   pop\n",
      "city4   9994  1003\n",
      "city5   9995  1004\n",
      "city6   9996  1005\n"
     ]
    }
   ],
   "source": [
    "print(data.loc[data['pop']> 1002, ['area1', 'pop']])"
   ]
  },
  {
   "cell_type": "code",
   "execution_count": 59,
   "id": "f7b295f2-a7b8-4089-9523-af3842284007",
   "metadata": {},
   "outputs": [
    {
     "name": "stdout",
     "output_type": "stream",
     "text": [
      "       area1  pop1     pop\n",
      "city1   9991  1000  999999\n",
      "city2   9992  1001    1001\n",
      "city3   9993  1002    1002\n",
      "city4   9994  1003    1003\n",
      "city5   9995  1004    1004\n",
      "city6   9996  1005    1005\n"
     ]
    }
   ],
   "source": [
    "data.iloc[0, 2] = 999999\n",
    "print(data)"
   ]
  },
  {
   "cell_type": "code",
   "execution_count": 61,
   "id": "86b8ece1-6d4e-4f95-b984-76f1db3ee26b",
   "metadata": {},
   "outputs": [
    {
     "name": "stdout",
     "output_type": "stream",
     "text": [
      "0    5\n",
      "1    0\n",
      "2    5\n",
      "3    9\n",
      "dtype: int64\n"
     ]
    }
   ],
   "source": [
    "rng = np.random.default_rng()\n",
    "s = pd.Series(rng.integers(0, 10, 4))\n",
    "print(s)"
   ]
  },
  {
   "cell_type": "code",
   "execution_count": 63,
   "id": "7ae099bb-6666-41de-a0fc-51b4f96c2822",
   "metadata": {},
   "outputs": [
    {
     "name": "stdout",
     "output_type": "stream",
     "text": [
      "0     148.413159\n",
      "1       1.000000\n",
      "2     148.413159\n",
      "3    8103.083928\n",
      "dtype: float64\n"
     ]
    }
   ],
   "source": [
    "print(np.exp(s))"
   ]
  },
  {
   "cell_type": "code",
   "execution_count": 64,
   "id": "6f7b351e-e2f2-49f8-b44f-9aba318c57f9",
   "metadata": {},
   "outputs": [
    {
     "name": "stdout",
     "output_type": "stream",
     "text": [
      "          area    pop1\n",
      "city1   9991.0  1000.0\n",
      "city2   9992.0  1001.0\n",
      "city3   9993.0  1002.0\n",
      "city41  9994.0     NaN\n",
      "city42     NaN  1003.0\n",
      "city51  9995.0     NaN\n",
      "city52     NaN  1004.0\n",
      "city6   9996.0  1005.0\n"
     ]
    }
   ],
   "source": [
    "area = pd.Series({'city1':9991, \n",
    "                   'city2':9992,\n",
    "                   'city3':9993, \n",
    "                   'city41':9994,\n",
    "                   'city51':9995, \n",
    "                   'city6':9996,\n",
    "                  })\n",
    "pop = pd.Series({'city1':1000, \n",
    "                   'city2':1001,\n",
    "                   'city3':1002, \n",
    "                   'city42':1003,\n",
    "                   'city52':1004, \n",
    "                   'city6':1005,\n",
    "                  })\n",
    "data = pd.DataFrame({'area':area, 'pop1':pop})\n",
    "print(data)"
   ]
  },
  {
   "cell_type": "code",
   "execution_count": 65,
   "id": "e3737077-a2cd-4ddf-aa7f-086110a6d222",
   "metadata": {},
   "outputs": [
    {
     "name": "stdout",
     "output_type": "stream",
     "text": [
      "   a  b\n",
      "0  5  2\n",
      "1  7  8\n",
      "   a  b  c\n",
      "0  9  8  6\n",
      "1  2  5  4\n",
      "2  0  1  7\n"
     ]
    }
   ],
   "source": [
    "dfa = pd.DataFrame(rng.integers(0, 10, (2, 2)), columns=['a', 'b'])\n",
    "dfb = pd.DataFrame(rng.integers(0, 10, (3, 3)), columns=['a', 'b', 'c'])\n",
    "print(dfa)\n",
    "print(dfb)"
   ]
  },
  {
   "cell_type": "code",
   "execution_count": 66,
   "id": "dcc59709-0cfe-46ce-93bb-e3d78ff92eb9",
   "metadata": {},
   "outputs": [
    {
     "name": "stdout",
     "output_type": "stream",
     "text": [
      "      a     b   c\n",
      "0  14.0  10.0 NaN\n",
      "1   9.0  13.0 NaN\n",
      "2   NaN   NaN NaN\n"
     ]
    }
   ],
   "source": [
    "print(dfa+dfb)"
   ]
  },
  {
   "cell_type": "code",
   "execution_count": 67,
   "id": "46c1a121-ae23-4c7c-878f-4c29af827b51",
   "metadata": {},
   "outputs": [
    {
     "name": "stdout",
     "output_type": "stream",
     "text": [
      "[[4 5 7 9]\n",
      " [0 1 8 9]\n",
      " [2 3 8 4]]\n",
      "[4 5 7 9]\n",
      "[[ 0  0  0  0]\n",
      " [-4 -4  1  0]\n",
      " [-2 -2  1 -5]]\n"
     ]
    }
   ],
   "source": [
    "rng = np.random.default_rng(1)\n",
    "a = rng.integers(0, 10, (3, 4))\n",
    "print(a)\n",
    "print(a[0])\n",
    "print(a - a[0])"
   ]
  },
  {
   "cell_type": "code",
   "execution_count": 68,
   "id": "3c56e2d1-53ef-46ad-a2ac-1fc6acb75e4b",
   "metadata": {},
   "outputs": [
    {
     "name": "stdout",
     "output_type": "stream",
     "text": [
      "a    4\n",
      "b    5\n",
      "c    7\n",
      "d    9\n",
      "Name: 0, dtype: int64\n"
     ]
    }
   ],
   "source": [
    "df = pd.DataFrame(a, columns =['a', 'b', 'c', 'd'])\n",
    "print(df.iloc[0])"
   ]
  },
  {
   "cell_type": "code",
   "execution_count": 69,
   "id": "9ff29114-81fd-423b-b315-a270c10e50c7",
   "metadata": {},
   "outputs": [
    {
     "name": "stdout",
     "output_type": "stream",
     "text": [
      "   a  b  c  d\n",
      "0  0  0  0  0\n",
      "1 -4 -4  1  0\n",
      "2 -2 -2  1 -5\n"
     ]
    }
   ],
   "source": [
    "print(df - df.iloc[0])"
   ]
  },
  {
   "cell_type": "code",
   "execution_count": 70,
   "id": "07f74b54-06ab-4024-9e17-ab3cc2abc130",
   "metadata": {},
   "outputs": [
    {
     "name": "stdout",
     "output_type": "stream",
     "text": [
      "a    4\n",
      "c    7\n",
      "Name: 0, dtype: int64\n"
     ]
    }
   ],
   "source": [
    "print(df.iloc[0, ::2])"
   ]
  },
  {
   "cell_type": "code",
   "execution_count": 71,
   "id": "4933ccef-a300-448d-a0f6-a1eb49552b52",
   "metadata": {},
   "outputs": [
    {
     "name": "stdout",
     "output_type": "stream",
     "text": [
      "     a   b    c   d\n",
      "0  0.0 NaN  0.0 NaN\n",
      "1 -4.0 NaN  1.0 NaN\n",
      "2 -2.0 NaN  1.0 NaN\n"
     ]
    }
   ],
   "source": [
    "print(df - df.iloc[0, ::2])"
   ]
  },
  {
   "cell_type": "code",
   "execution_count": 72,
   "id": "1395b93d-ead5-459d-8f68-9f713aec00a3",
   "metadata": {},
   "outputs": [
    {
     "name": "stdout",
     "output_type": "stream",
     "text": [
      "6\n"
     ]
    }
   ],
   "source": [
    "# два способа хранить отсутствующие значения: индикаторы NaN, None \n",
    "# Null\n",
    "# none - объект. не работает с sum, min \n",
    "val1 = np.array([1, 2, 3])\n",
    "print(val1.sum())"
   ]
  },
  {
   "cell_type": "code",
   "execution_count": 75,
   "id": "705f186a-b893-4da5-918e-cc618f553797",
   "metadata": {},
   "outputs": [
    {
     "name": "stdout",
     "output_type": "stream",
     "text": [
      "nan\n",
      "6.0\n"
     ]
    }
   ],
   "source": [
    "val1 = np.array([1, 2, 3, np.nan])\n",
    "print(val1.sum())\n",
    "print(np.nansum(val1))"
   ]
  },
  {
   "cell_type": "code",
   "execution_count": 74,
   "id": "80838c6b-ed93-45bd-b53c-f87dfbe622c0",
   "metadata": {},
   "outputs": [
    {
     "ename": "TypeError",
     "evalue": "unsupported operand type(s) for +: 'int' and 'NoneType'",
     "output_type": "error",
     "traceback": [
      "\u001b[1;31m---------------------------------------------------------------------------\u001b[0m",
      "\u001b[1;31mTypeError\u001b[0m                                 Traceback (most recent call last)",
      "Cell \u001b[1;32mIn[74], line 2\u001b[0m\n\u001b[0;32m      1\u001b[0m val1 \u001b[38;5;241m=\u001b[39m np\u001b[38;5;241m.\u001b[39marray([\u001b[38;5;241m1\u001b[39m, \u001b[38;5;241m2\u001b[39m, \u001b[38;5;241m3\u001b[39m, \u001b[38;5;28;01mNone\u001b[39;00m])\n\u001b[1;32m----> 2\u001b[0m \u001b[38;5;28mprint\u001b[39m(val1\u001b[38;5;241m.\u001b[39msum())\n",
      "File \u001b[1;32mD:\\anaconda\\Lib\\site-packages\\numpy\\core\\_methods.py:49\u001b[0m, in \u001b[0;36m_sum\u001b[1;34m(a, axis, dtype, out, keepdims, initial, where)\u001b[0m\n\u001b[0;32m     47\u001b[0m \u001b[38;5;28;01mdef\u001b[39;00m \u001b[38;5;21m_sum\u001b[39m(a, axis\u001b[38;5;241m=\u001b[39m\u001b[38;5;28;01mNone\u001b[39;00m, dtype\u001b[38;5;241m=\u001b[39m\u001b[38;5;28;01mNone\u001b[39;00m, out\u001b[38;5;241m=\u001b[39m\u001b[38;5;28;01mNone\u001b[39;00m, keepdims\u001b[38;5;241m=\u001b[39m\u001b[38;5;28;01mFalse\u001b[39;00m,\n\u001b[0;32m     48\u001b[0m          initial\u001b[38;5;241m=\u001b[39m_NoValue, where\u001b[38;5;241m=\u001b[39m\u001b[38;5;28;01mTrue\u001b[39;00m):\n\u001b[1;32m---> 49\u001b[0m     \u001b[38;5;28;01mreturn\u001b[39;00m umr_sum(a, axis, dtype, out, keepdims, initial, where)\n",
      "\u001b[1;31mTypeError\u001b[0m: unsupported operand type(s) for +: 'int' and 'NoneType'"
     ]
    }
   ],
   "source": [
    "# так нельзя:\n",
    "val1 = np.array([1, 2, 3, None])\n",
    "print(val1.sum())"
   ]
  },
  {
   "cell_type": "code",
   "execution_count": 77,
   "id": "51008411-899b-4b57-b2f1-9ced84f54769",
   "metadata": {},
   "outputs": [
    {
     "name": "stdout",
     "output_type": "stream",
     "text": [
      "0    0\n",
      "1    1\n",
      "2    2\n",
      "3    3\n",
      "4    4\n",
      "5    5\n",
      "6    6\n",
      "7    7\n",
      "8    8\n",
      "9    9\n",
      "dtype: int32\n"
     ]
    }
   ],
   "source": [
    "x = pd.Series(range(10), dtype=int)\n",
    "print(x)"
   ]
  },
  {
   "cell_type": "code",
   "execution_count": 79,
   "id": "b18f848a-8e09-4cb6-8286-7233f78202e2",
   "metadata": {},
   "outputs": [
    {
     "name": "stdout",
     "output_type": "stream",
     "text": [
      "0    NaN\n",
      "1    NaN\n",
      "2    2.0\n",
      "3    3.0\n",
      "4    4.0\n",
      "5    5.0\n",
      "6    6.0\n",
      "7    7.0\n",
      "8    8.0\n",
      "9    9.0\n",
      "dtype: float64\n"
     ]
    }
   ],
   "source": [
    "x[0] = None\n",
    "x[1] = np.nan\n",
    "print(x)\n",
    "x1 = pd.Series(['a', 'b', 'c'])\n",
    "x1[0] = None\n",
    "x1[1] = np.nan"
   ]
  },
  {
   "cell_type": "code",
   "execution_count": 80,
   "id": "bf108c21-ef34-4673-b275-3c75152aa90a",
   "metadata": {},
   "outputs": [],
   "source": [
    "x2 = pd.Series([1, 2, 3, np.nan, None, pd.NA], dtype='Int32')"
   ]
  },
  {
   "cell_type": "code",
   "execution_count": 81,
   "id": "5dfb8930-2b31-4761-a7cd-a12e393499ee",
   "metadata": {},
   "outputs": [
    {
     "name": "stdout",
     "output_type": "stream",
     "text": [
      "0       1\n",
      "1       2\n",
      "2       3\n",
      "3    <NA>\n",
      "4    <NA>\n",
      "5    <NA>\n",
      "dtype: Int32\n"
     ]
    }
   ],
   "source": [
    "print(x2)"
   ]
  },
  {
   "cell_type": "code",
   "execution_count": 86,
   "id": "8e52b53b-772f-46f6-b07e-54b23346386f",
   "metadata": {},
   "outputs": [
    {
     "name": "stdout",
     "output_type": "stream",
     "text": [
      "0    False\n",
      "1    False\n",
      "2    False\n",
      "3     True\n",
      "4     True\n",
      "5     True\n",
      "dtype: bool\n",
      "0    1\n",
      "1    2\n",
      "2    3\n",
      "dtype: Int32\n"
     ]
    }
   ],
   "source": [
    "print(x2.isnull())\n",
    "print(x2[x2.notnull()])"
   ]
  },
  {
   "cell_type": "code",
   "execution_count": 87,
   "id": "7cb561b9-1536-467d-adfb-6e5bedd83382",
   "metadata": {},
   "outputs": [
    {
     "name": "stdout",
     "output_type": "stream",
     "text": [
      "0    1\n",
      "1    2\n",
      "2    3\n",
      "dtype: Int32\n"
     ]
    }
   ],
   "source": [
    "print(x2.dropna())"
   ]
  },
  {
   "cell_type": "code",
   "execution_count": 90,
   "id": "f50c73d5-c49d-4c69-9946-3a1eb0b91360",
   "metadata": {},
   "outputs": [],
   "source": [
    "df = pd.DataFrame([\n",
    "    [1, 2, 3, np.nan, None, pd.NA],\n",
    "    [1,2, 3, 4, 5, 6], \n",
    "    [1, np.nan, 3, 4, np.nan, 6]])"
   ]
  },
  {
   "cell_type": "code",
   "execution_count": 91,
   "id": "8bdfbce5-f4ce-41c6-8b47-caf642c8f446",
   "metadata": {},
   "outputs": [
    {
     "name": "stdout",
     "output_type": "stream",
     "text": [
      "   0    1  2    3    4     5\n",
      "0  1  2.0  3  NaN  NaN  <NA>\n",
      "1  1  2.0  3  4.0  5.0     6\n",
      "2  1  NaN  3  4.0  NaN     6\n"
     ]
    }
   ],
   "source": [
    "print(df)"
   ]
  },
  {
   "cell_type": "code",
   "execution_count": 92,
   "id": "e459b1a9-e8c4-4b8d-84b3-03b02d95a201",
   "metadata": {},
   "outputs": [
    {
     "name": "stdout",
     "output_type": "stream",
     "text": [
      "   0    1  2    3    4  5\n",
      "1  1  2.0  3  4.0  5.0  6\n"
     ]
    }
   ],
   "source": [
    "print(df.dropna())"
   ]
  },
  {
   "cell_type": "code",
   "execution_count": 93,
   "id": "eb6cc3f2-85b1-4371-8fd0-aa0253fe8fe6",
   "metadata": {},
   "outputs": [
    {
     "name": "stdout",
     "output_type": "stream",
     "text": [
      "   0    1  2    3    4  5\n",
      "1  1  2.0  3  4.0  5.0  6\n",
      "   0  2\n",
      "0  1  3\n",
      "1  1  3\n",
      "2  1  3\n"
     ]
    }
   ],
   "source": [
    "print(df.dropna(axis=0))\n",
    "print(df.dropna(axis=1))"
   ]
  },
  {
   "cell_type": "code",
   "execution_count": 95,
   "id": "cda78531-c4be-4458-bee9-f0c983cbc22a",
   "metadata": {},
   "outputs": [
    {
     "name": "stdout",
     "output_type": "stream",
     "text": [
      "   0    1  2    3    4     5\n",
      "0  1  2.0  3  NaN  NaN  <NA>\n",
      "1  1  2.0  3  4.0  5.0     6\n",
      "2  1  NaN  3  NaN  NaN     6\n",
      "   0  2\n",
      "0  1  3\n",
      "1  1  3\n",
      "2  1  3\n",
      "   0    1  2     5\n",
      "0  1  2.0  3  <NA>\n",
      "1  1  2.0  3     6\n",
      "2  1  NaN  3     6\n"
     ]
    }
   ],
   "source": [
    "df = pd.DataFrame([\n",
    "    [1, 2, 3, np.nan, None, pd.NA],\n",
    "    [1,2, 3, 4, 5, 6], \n",
    "    [1, np.nan, 3, None, np.nan, 6]])\n",
    "print(df.dropna(axis=1, how='all')) # все значения нан\n",
    "print(df.dropna(axis=1, how='any')) # хотя бы одно нан\n",
    "print(df.dropna(axis=1, thresh=2)) # хотя бы x НЕ нан"
   ]
  }
 ],
 "metadata": {
  "kernelspec": {
   "display_name": "Python 3 (ipykernel)",
   "language": "python",
   "name": "python3"
  },
  "language_info": {
   "codemirror_mode": {
    "name": "ipython",
    "version": 3
   },
   "file_extension": ".py",
   "mimetype": "text/x-python",
   "name": "python",
   "nbconvert_exporter": "python",
   "pygments_lexer": "ipython3",
   "version": "3.11.7"
  }
 },
 "nbformat": 4,
 "nbformat_minor": 5
}
