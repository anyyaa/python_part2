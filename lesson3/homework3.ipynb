{
 "cells": [
  {
   "cell_type": "code",
   "execution_count": 1,
   "id": "b7054643-ec75-4e0b-b0d0-1059dec98bbc",
   "metadata": {},
   "outputs": [],
   "source": [
    "# 1. Привести различные способы создания объектов типа Series\n",
    "# Для создания Series можно использовать\n",
    "# - списки Python или массивы NumPy\n",
    "# - скалярные значение\n",
    "# - словари"
   ]
  },
  {
   "cell_type": "code",
   "execution_count": 2,
   "id": "c139ccc7-aeac-4c04-b7f4-f34bbd93eee1",
   "metadata": {},
   "outputs": [
    {
     "name": "stdout",
     "output_type": "stream",
     "text": [
      "0    10\n",
      "1    20\n",
      "2    30\n",
      "3    40\n",
      "dtype: int64\n",
      "0    1\n",
      "1    2\n",
      "2    3\n",
      "3    4\n",
      "4    5\n",
      "dtype: int32\n",
      "a    1\n",
      "b    1\n",
      "c    1\n",
      "d    1\n",
      "dtype: int64\n",
      "a    100\n",
      "b    200\n",
      "c    300\n",
      "dtype: int64\n"
     ]
    }
   ],
   "source": [
    "import pandas as pd\n",
    "import numpy as np\n",
    "\n",
    "# Список Python\n",
    "data_list = [10, 20, 30, 40]\n",
    "series_from_list = pd.Series(data_list)\n",
    "print(series_from_list)\n",
    "\n",
    "# Массив NumPy\n",
    "data_array = np.array([1, 2, 3, 4, 5])\n",
    "series_from_array = pd.Series(data_array)\n",
    "print(series_from_array)\n",
    "\n",
    "# Одно значение, которое будет размножено\n",
    "scalar_value = 1\n",
    "series_from_scalar = pd.Series(scalar_value, index=['a', 'b', 'c', 'd'])\n",
    "print(series_from_scalar)\n",
    "\n",
    "# Словарь\n",
    "data_dict = {'a': 100, 'b': 200, 'c': 300}\n",
    "series_from_dict = pd.Series(data_dict)\n",
    "print(series_from_dict)\n"
   ]
  },
  {
   "cell_type": "code",
   "execution_count": 3,
   "id": "79d2c4e8-fbd3-4922-a9e6-941cb04c0ed8",
   "metadata": {},
   "outputs": [],
   "source": [
    "# 2. Привести различные способы создания объектов типа DataFrame\n",
    "# DataFrame. Способы создания\n",
    "# - через объекты Series\n",
    "# - списки словарей\n",
    "# - словари объектов Series\n",
    "# - двумерный массив NumPy\n",
    "# - структурированный массив Numpy"
   ]
  },
  {
   "cell_type": "code",
   "execution_count": 4,
   "id": "bc848fe3-cc4e-4c86-b1ff-fed0edbf2e1d",
   "metadata": {},
   "outputs": [
    {
     "name": "stdout",
     "output_type": "stream",
     "text": [
      "   Column1  Column2\n",
      "0        1        4\n",
      "1        2        5\n",
      "2        3        6\n"
     ]
    }
   ],
   "source": [
    "import pandas as pd\n",
    "import numpy as np\n",
    "\n",
    "series1 = pd.Series([1, 2, 3], name='Column1')\n",
    "series2 = pd.Series([4, 5, 6], name='Column2')\n",
    "\n",
    "# DataFrame из Series\n",
    "df_from_series = pd.DataFrame({series1.name: series1, series2.name: series2})\n",
    "print(df_from_series)\n"
   ]
  },
  {
   "cell_type": "code",
   "execution_count": 5,
   "id": "6380d0d5-f81f-4c69-93b3-45174bfc61e4",
   "metadata": {},
   "outputs": [
    {
     "name": "stdout",
     "output_type": "stream",
     "text": [
      "   A  B  C\n",
      "0  1  2  3\n",
      "1  4  5  6\n",
      "2  7  8  9\n"
     ]
    }
   ],
   "source": [
    "# Список словарей\n",
    "data_list_of_dicts = [\n",
    "    {'A': 1, 'B': 2, 'C': 3},\n",
    "    {'A': 4, 'B': 5, 'C': 6},\n",
    "    {'A': 7, 'B': 8, 'C': 9},\n",
    "]\n",
    "\n",
    "df_from_list_of_dicts = pd.DataFrame(data_list_of_dicts)\n",
    "print(df_from_list_of_dicts)\n"
   ]
  },
  {
   "cell_type": "code",
   "execution_count": 6,
   "id": "28a4e736-592a-4123-9d4f-e2e89580bbe6",
   "metadata": {},
   "outputs": [
    {
     "name": "stdout",
     "output_type": "stream",
     "text": [
      "   Column1  Column2\n",
      "0       10       40\n",
      "1       20       50\n",
      "2       30       60\n"
     ]
    }
   ],
   "source": [
    "# Словарь объектов Series\n",
    "data_dict_of_series = {\n",
    "    'Column1': pd.Series([10, 20, 30]),\n",
    "    'Column2': pd.Series([40, 50, 60])\n",
    "}\n",
    "\n",
    "df_from_dict_of_series = pd.DataFrame(data_dict_of_series)\n",
    "print(df_from_dict_of_series)\n"
   ]
  },
  {
   "cell_type": "code",
   "execution_count": 7,
   "id": "47ac300b-8f32-419a-99ef-a5d0a8fbd050",
   "metadata": {},
   "outputs": [
    {
     "name": "stdout",
     "output_type": "stream",
     "text": [
      "   A  B  C\n",
      "0  1  2  3\n",
      "1  4  5  6\n",
      "2  7  8  9\n"
     ]
    }
   ],
   "source": [
    "# Двумерный массив NumPy\n",
    "data_numpy = np.array([[1, 2, 3], [4, 5, 6], [7, 8, 9]])\n",
    "\n",
    "df_from_numpy = pd.DataFrame(data_numpy, columns=['A', 'B', 'C'])\n",
    "print(df_from_numpy)\n"
   ]
  },
  {
   "cell_type": "code",
   "execution_count": 9,
   "id": "7fec2e30-398c-4478-8767-9ce6555fffae",
   "metadata": {},
   "outputs": [
    {
     "name": "stdout",
     "output_type": "stream",
     "text": [
      "   ID     Name  Age\n",
      "0   1    Alice   25\n",
      "1   2      Bob   30\n",
      "2   3  Charlie   35\n"
     ]
    }
   ],
   "source": [
    "# Структурированный массив NumPy\n",
    "structured_array = np.array(\n",
    "    [(1, 'Alice', 25), (2, 'Bob', 30), (3, 'Charlie', 35)],\n",
    "    dtype=[('ID', 'int32'), ('Name', 'U10'), ('Age', 'int32')]\n",
    ")\n",
    "\n",
    "df_from_structured_array = pd.DataFrame(structured_array)\n",
    "print(df_from_structured_array)\n"
   ]
  },
  {
   "cell_type": "code",
   "execution_count": null,
   "id": "416a5275-fca4-4fd1-99a2-5f80528b3425",
   "metadata": {},
   "outputs": [],
   "source": [
    "# 3. Объедините два объекта Series с неодинаковыми множествами ключей (индексов) так, чтобы вместо NaN было установлено значение 1\n"
   ]
  },
  {
   "cell_type": "code",
   "execution_count": 10,
   "id": "9238f5a0-0091-43ec-8da8-fcdf79de4250",
   "metadata": {},
   "outputs": [
    {
     "name": "stdout",
     "output_type": "stream",
     "text": [
      "a    11.0\n",
      "b    60.0\n",
      "c    31.0\n",
      "d    51.0\n",
      "dtype: float64\n"
     ]
    }
   ],
   "source": [
    "import pandas as pd\n",
    "\n",
    "# Два объекта Series с различными индексами\n",
    "series1 = pd.Series([10, 20, 30], index=['a', 'b', 'c'])\n",
    "series2 = pd.Series([40, 50], index=['b', 'd'])\n",
    "\n",
    "# Объединение с заполнением NaN значением 1, результат складывается \n",
    "result_series = series1.add(series2, fill_value=1)\n",
    "print(result_series)\n"
   ]
  },
  {
   "cell_type": "code",
   "execution_count": null,
   "id": "dc96d62a-30a6-48a9-8173-c869657f5642",
   "metadata": {},
   "outputs": [],
   "source": [
    "# 4. Переписать пример с транслирование для DataFrame так, чтобы вычитание происходило по СТОЛБЦАМ"
   ]
  },
  {
   "cell_type": "code",
   "execution_count": 11,
   "id": "7ebb91a2-9379-48eb-9248-6fff6d3c0018",
   "metadata": {},
   "outputs": [
    {
     "name": "stdout",
     "output_type": "stream",
     "text": [
      "    A   B   C\n",
      "0   5  25  45\n",
      "1  15  35  55\n",
      "2  25  45  65\n"
     ]
    }
   ],
   "source": [
    "import pandas as pd\n",
    "\n",
    "\n",
    "df = pd.DataFrame({\n",
    "    'A': [10, 20, 30],\n",
    "    'B': [40, 50, 60],\n",
    "    'C': [70, 80, 90]\n",
    "})\n",
    "\n",
    "# значения будут вычитаться из каждого столбца\n",
    "series = pd.Series([5, 15, 25], index=['A', 'B', 'C'])\n",
    "result = df.sub(series, axis=1)\n",
    "print(result)\n"
   ]
  },
  {
   "cell_type": "code",
   "execution_count": 12,
   "id": "a8d4b23f-37e7-47b6-96e7-1671bdacbc57",
   "metadata": {},
   "outputs": [],
   "source": [
    "# 5. На примере объектов DataFrame продемонстрируйте использование методов ffill() и bfill()"
   ]
  },
  {
   "cell_type": "code",
   "execution_count": 13,
   "id": "85573a86-fc98-4daf-8ae6-49de3262bc0f",
   "metadata": {},
   "outputs": [
    {
     "name": "stdout",
     "output_type": "stream",
     "text": [
      "     A    B    C\n",
      "0  1.0  NaN  NaN\n",
      "1  NaN  2.0  NaN\n",
      "2  3.0  NaN  NaN\n",
      "3  NaN  4.0  NaN\n",
      "4  5.0  NaN  5.0\n",
      "     A    B    C\n",
      "0  1.0  NaN  NaN\n",
      "1  1.0  2.0  NaN\n",
      "2  3.0  2.0  NaN\n",
      "3  3.0  4.0  NaN\n",
      "4  5.0  4.0  5.0\n",
      "     A    B    C\n",
      "0  1.0  2.0  5.0\n",
      "1  3.0  2.0  5.0\n",
      "2  3.0  4.0  5.0\n",
      "3  5.0  4.0  5.0\n",
      "4  5.0  NaN  5.0\n"
     ]
    }
   ],
   "source": [
    "import pandas as pd\n",
    "\n",
    "\n",
    "df = pd.DataFrame({\n",
    "    'A': [1, None, 3, None, 5],\n",
    "    'B': [None, 2, None, 4, None],\n",
    "    'C': [None, None, None, None, 5]\n",
    "})\n",
    "print(df)\n",
    "\n",
    "# Метод ffill() - Заполняет пропущенные значения предыдущими (по строкам)\n",
    "df_ffill = df.ffill()\n",
    "print(df_ffill)\n",
    "\n",
    "# Метод bfill() - Заполняет пропущенные значения следующими (по строкам)\n",
    "df_bfill = df.bfill()\n",
    "print(df_bfill)\n"
   ]
  },
  {
   "cell_type": "code",
   "execution_count": null,
   "id": "5a6c59d4-3e8a-4c18-814b-94c5f3d7f11f",
   "metadata": {},
   "outputs": [],
   "source": []
  }
 ],
 "metadata": {
  "kernelspec": {
   "display_name": "Python 3 (ipykernel)",
   "language": "python",
   "name": "python3"
  },
  "language_info": {
   "codemirror_mode": {
    "name": "ipython",
    "version": 3
   },
   "file_extension": ".py",
   "mimetype": "text/x-python",
   "name": "python",
   "nbconvert_exporter": "python",
   "pygments_lexer": "ipython3",
   "version": "3.11.7"
  }
 },
 "nbformat": 4,
 "nbformat_minor": 5
}
