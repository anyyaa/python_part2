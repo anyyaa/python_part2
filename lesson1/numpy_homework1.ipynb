{
 "cells": [
  {
   "cell_type": "markdown",
   "id": "a6b80566-5f8d-466d-a247-8413d644f63a",
   "metadata": {},
   "source": [
    "## 1. Какие еще существуют коды типов? \n",
    "\n"
   ]
  },
  {
   "cell_type": "code",
   "execution_count": null,
   "id": "2f72533a-4be6-41cc-9e94-bccb428b7047",
   "metadata": {},
   "outputs": [],
   "source": [
    "маленькая буква - signed со знаком, большая - unsigned без знака.\n",
    "Например:\n",
    "'b' – целое число со знаком (signed char) (от -128 до 127).\n",
    "'B' – целое число без знака (unsigned char) (от 0 до 255).\n",
    "в остальных такая же логика\n",
    "'h' – целое число со знаком (short) (от -32,768 до 32,767).\n",
    "'H' – целое число без знака (unsigned short) (от 0 до 65,535).\n",
    "'i' – целое число со знаком (int) (от -2,147,483,648 до 2,147,483,647).\n",
    "'I' – целое число без знака (unsigned int) (от 0 до 4,294,967,295).\n",
    "'l' – целое число со знаком (long) (от -2,147,483,648 до 2,147,483,647).\n",
    "'L' – целое число без знака (unsigned long) (от 0 до 4,294,967,295).\n",
    "непарные коды типов:\n",
    "'f' – число с плавающей точкой (float).\n",
    "'d' – число с двойной точностью (double).\n",
    "'u' – символ (один Unicode символ)."
   ]
  },
  {
   "cell_type": "markdown",
   "id": "7b0143ad-042e-4b1d-8847-deb8e8200cc1",
   "metadata": {},
   "source": [
    "## 2. Напишите код, подобный приведенному выше, но с другим типом\n"
   ]
  },
  {
   "cell_type": "code",
   "execution_count": 2,
   "id": "38853584-e5ef-4071-a796-7904f730e17c",
   "metadata": {},
   "outputs": [
    {
     "name": "stdout",
     "output_type": "stream",
     "text": [
      "array('u', 'abc')\n",
      "<class 'array.array'>\n",
      "86\n"
     ]
    }
   ],
   "source": [
    "import array\n",
    "import sys\n",
    "\n",
    "# массив из одиночных символов\n",
    "chars = array.array('u', ['a', 'b', 'c'])\n",
    "print(chars)  \n",
    "print(type(chars))\n",
    "print(sys.getsizeof(chars)) "
   ]
  },
  {
   "cell_type": "markdown",
   "id": "cb7f7104-2fd3-4a1b-b31e-6c35548832de",
   "metadata": {},
   "source": [
    "## 3. Напишите код для создания массива с 5 значениями, располагающимися через равные интервалы в диапазоне от 0 до 1\n"
   ]
  },
  {
   "cell_type": "code",
   "execution_count": 5,
   "id": "b2d63386-b6b9-4b2c-86bf-928053e4f4b4",
   "metadata": {},
   "outputs": [
    {
     "name": "stdout",
     "output_type": "stream",
     "text": [
      "[0.   0.25 0.5  0.75 1.  ]\n"
     ]
    }
   ],
   "source": [
    "import numpy as np\n",
    "arr = np.linspace(0, 1, 5)\n",
    "print(arr)"
   ]
  },
  {
   "cell_type": "markdown",
   "id": "820192e4-9403-4602-97a9-d85a5d9dc891",
   "metadata": {},
   "source": [
    "## 4. Напишите код для создания массива с 5 равномерно распределенными случайными значениями в диапазоне от 0 до 1\n"
   ]
  },
  {
   "cell_type": "code",
   "execution_count": 6,
   "id": "d87935da-8073-4bfe-a93f-0bf0d97ff6c0",
   "metadata": {},
   "outputs": [
    {
     "name": "stdout",
     "output_type": "stream",
     "text": [
      "[0.70418672 0.90133389 0.04501854 0.85532485 0.53064686]\n"
     ]
    }
   ],
   "source": [
    "arr = np.random.uniform(0, 1, 5)\n",
    "print(arr)"
   ]
  },
  {
   "cell_type": "markdown",
   "id": "2540e833-fab5-47bb-9cb1-52392e251a57",
   "metadata": {},
   "source": [
    "## 5. Напишите код для создания массива с 5 нормально распределенными случайными значениями с мат. ожиданием = 0 и дисперсией 1\n"
   ]
  },
  {
   "cell_type": "code",
   "execution_count": 8,
   "id": "21e1e4a4-b5fa-4912-9131-57803f0a51f6",
   "metadata": {},
   "outputs": [
    {
     "name": "stdout",
     "output_type": "stream",
     "text": [
      "[-1.27714400e-01 -1.38783529e+00  3.35930548e-01  7.19860235e-01\n",
      "  9.77856213e-04]\n"
     ]
    }
   ],
   "source": [
    "arr = np.random.normal(0, 1, 5)\n",
    "print(arr)"
   ]
  },
  {
   "cell_type": "markdown",
   "id": "374d168b-cfdf-46c3-9415-960156263c12",
   "metadata": {},
   "source": [
    "## 6. Напишите код для создания массива с 5 случайнвми целыми числами в от [0, 10)"
   ]
  },
  {
   "cell_type": "code",
   "execution_count": 9,
   "id": "f28fce6d-a338-4f36-b274-07323b648083",
   "metadata": {},
   "outputs": [
    {
     "name": "stdout",
     "output_type": "stream",
     "text": [
      "[9 7 2 0 7]\n"
     ]
    }
   ],
   "source": [
    "arr = np.random.randint(0, 10, 5)\n",
    "print(arr) # [1 7 8 1 3]\n"
   ]
  },
  {
   "cell_type": "markdown",
   "id": "c6b96785-cc3d-4291-b288-1a5495b4ccf4",
   "metadata": {},
   "source": [
    "## 7. Написать код для создания срезов массива 3 на 4\n"
   ]
  },
  {
   "cell_type": "code",
   "execution_count": 11,
   "id": "f1589eb2-8155-491c-87e9-d9e4f74ec967",
   "metadata": {},
   "outputs": [
    {
     "name": "stdout",
     "output_type": "stream",
     "text": [
      "[[1 2 3]\n",
      " [5 6 7]]\n",
      "[ 2  6 10]\n",
      "[[12 11 10  9]\n",
      " [ 8  7  6  5]\n",
      " [ 4  3  2  1]]\n",
      "[ 2  6 10]\n",
      "[ 9 10 11 12]\n"
     ]
    }
   ],
   "source": [
    "arr = np.array([[1, 2, 3, 4],\n",
    "                [5, 6, 7, 8],\n",
    "                [9, 10, 11, 12]])\n",
    "\n",
    "## - первые две строки и три столбца\n",
    "slice_1 = arr[:2, :3]\n",
    "print(slice_1)\n",
    "\n",
    "## - первые три строки и второй столбец\n",
    "slice_2 = arr[:3, 1]\n",
    "print(slice_2)\n",
    "\n",
    "## - все строки и столбцы в обратном порядке\n",
    "slice_3 = arr[::-1, ::-1]\n",
    "print(slice_3)\n",
    "\n",
    "## - второй столбец\n",
    "slice_4 = arr[:, 1]\n",
    "print(slice_4)\n",
    "\n",
    "## - третья строка\n",
    "slice_5 = arr[2]\n",
    "print(slice_5)"
   ]
  },
  {
   "cell_type": "markdown",
   "id": "eff1db62-bd70-4f36-91c9-c4d0a38af93d",
   "metadata": {},
   "source": [
    "\n",
    "## 8. Продемонстрируйте, как сделать срез-копию\n"
   ]
  },
  {
   "cell_type": "code",
   "execution_count": 13,
   "id": "cd7bfb1e-79d2-40cc-a7cb-43aabf66e5f9",
   "metadata": {},
   "outputs": [
    {
     "name": "stdout",
     "output_type": "stream",
     "text": [
      "[[1 2 3]\n",
      " [5 6 7]]\n"
     ]
    }
   ],
   "source": [
    "slice_copy = arr[:2, :3].copy()\n",
    "print(slice_copy)"
   ]
  },
  {
   "cell_type": "markdown",
   "id": "56c7b129-4049-4343-99b5-e46f8dc2172d",
   "metadata": {},
   "source": [
    "## 9. Продемонстрируйте использование newaxis для получения вектора-столбца и вектора-строки"
   ]
  },
  {
   "cell_type": "code",
   "execution_count": 15,
   "id": "aa7b72ef-0b13-49e8-b313-94afa4ce0566",
   "metadata": {},
   "outputs": [
    {
     "name": "stdout",
     "output_type": "stream",
     "text": [
      "[[1]\n",
      " [2]\n",
      " [3]\n",
      " [4]\n",
      " [5]]\n"
     ]
    }
   ],
   "source": [
    "arr = np.array([1, 2, 3, 4, 5])\n",
    "\n",
    "column_vector = arr[:, np.newaxis]\n",
    "print(column_vector)\n"
   ]
  },
  {
   "cell_type": "code",
   "execution_count": 16,
   "id": "ca913178-d872-41df-88ae-ffd2cded869e",
   "metadata": {},
   "outputs": [
    {
     "name": "stdout",
     "output_type": "stream",
     "text": [
      "[[1 2 3 4 5]]\n"
     ]
    }
   ],
   "source": [
    "row_vector = arr[np.newaxis, :]\n",
    "print(row_vector)\n"
   ]
  },
  {
   "cell_type": "markdown",
   "id": "2956d52b-f1e0-4ca5-9a3a-e9632edf3d02",
   "metadata": {},
   "source": [
    "## 10. Разберитесь, как работает метод dstack\n",
    "Метод dstack объединяет массивы вдоль третьей оси"
   ]
  },
  {
   "cell_type": "code",
   "execution_count": 17,
   "id": "d999a016-81ef-44e7-8a08-8b25b0c5cfc7",
   "metadata": {},
   "outputs": [
    {
     "name": "stdout",
     "output_type": "stream",
     "text": [
      "[[[ 1  7]\n",
      "  [ 2  8]\n",
      "  [ 3  9]]\n",
      "\n",
      " [[ 4 10]\n",
      "  [ 5 11]\n",
      "  [ 6 12]]]\n"
     ]
    }
   ],
   "source": [
    "arr1 = np.array([[1, 2, 3], [4, 5, 6]])\n",
    "arr2 = np.array([[7, 8, 9], [10, 11, 12]])\n",
    "result = np.dstack((arr1, arr2))\n",
    "print(result)\n"
   ]
  },
  {
   "cell_type": "markdown",
   "id": "94587703-0d94-4110-84c1-0437f35c2a3e",
   "metadata": {},
   "source": [
    "## 11. Разберитесь, как работают методы split, vsplit, hsplit, dsplit\n"
   ]
  },
  {
   "cell_type": "code",
   "execution_count": 18,
   "id": "831fd286-db55-4838-a5d1-4f61522b142f",
   "metadata": {},
   "outputs": [
    {
     "name": "stdout",
     "output_type": "stream",
     "text": [
      "[array([1, 2]), array([3, 4]), array([5, 6])]\n"
     ]
    }
   ],
   "source": [
    "arr = np.array([1, 2, 3, 4, 5, 6])\n",
    "result = np.split(arr, 3)  # Разделяет на 3 части\n",
    "print(result)\n"
   ]
  },
  {
   "cell_type": "code",
   "execution_count": 19,
   "id": "b5354b02-8596-4332-9b47-081303821461",
   "metadata": {},
   "outputs": [
    {
     "name": "stdout",
     "output_type": "stream",
     "text": [
      "[array([[1, 2, 3]]), array([[4, 5, 6]]), array([[7, 8, 9]])]\n"
     ]
    }
   ],
   "source": [
    "arr = np.array([[1, 2, 3], [4, 5, 6], [7, 8, 9]])\n",
    "result = np.vsplit(arr, 3)  # Разделяет на 3 части по строкам\n",
    "print(result)"
   ]
  },
  {
   "cell_type": "code",
   "execution_count": 20,
   "id": "b4d2d389-c102-4aec-bc3c-bc1cfd44664b",
   "metadata": {},
   "outputs": [
    {
     "name": "stdout",
     "output_type": "stream",
     "text": [
      "[array([[1],\n",
      "       [4],\n",
      "       [7]]), array([[2],\n",
      "       [5],\n",
      "       [8]]), array([[3],\n",
      "       [6],\n",
      "       [9]])]\n"
     ]
    }
   ],
   "source": [
    "arr = np.array([[1, 2, 3], [4, 5, 6], [7, 8, 9]])\n",
    "result = np.hsplit(arr, 3)  # Разделяет на 3 части по столбцам\n",
    "print(result)\n"
   ]
  },
  {
   "cell_type": "code",
   "execution_count": 22,
   "id": "03044bdf-0835-40dc-b2d1-e59b3c5c3736",
   "metadata": {},
   "outputs": [
    {
     "name": "stdout",
     "output_type": "stream",
     "text": [
      "[[[ 0  1  2]\n",
      "  [ 3  4  5]\n",
      "  [ 6  7  8]]\n",
      "\n",
      " [[ 9 10 11]\n",
      "  [12 13 14]\n",
      "  [15 16 17]]\n",
      "\n",
      " [[18 19 20]\n",
      "  [21 22 23]\n",
      "  [24 25 26]]]\n",
      "[array([[[ 0],\n",
      "        [ 3],\n",
      "        [ 6]],\n",
      "\n",
      "       [[ 9],\n",
      "        [12],\n",
      "        [15]],\n",
      "\n",
      "       [[18],\n",
      "        [21],\n",
      "        [24]]]), array([[[ 1],\n",
      "        [ 4],\n",
      "        [ 7]],\n",
      "\n",
      "       [[10],\n",
      "        [13],\n",
      "        [16]],\n",
      "\n",
      "       [[19],\n",
      "        [22],\n",
      "        [25]]]), array([[[ 2],\n",
      "        [ 5],\n",
      "        [ 8]],\n",
      "\n",
      "       [[11],\n",
      "        [14],\n",
      "        [17]],\n",
      "\n",
      "       [[20],\n",
      "        [23],\n",
      "        [26]]])]\n"
     ]
    }
   ],
   "source": [
    "arr = np.arange(27).reshape(3, 3, 3)\n",
    "print(arr)\n",
    "result = np.dsplit(arr, 3)  # Разделяет по третьей оси (по глубине)\n",
    "print(result)\n"
   ]
  },
  {
   "cell_type": "markdown",
   "id": "0368a628-c938-4912-be52-d073a68568c4",
   "metadata": {},
   "source": [
    "## 12. Привести пример использования всех универсальных функций, которые я привел"
   ]
  },
  {
   "cell_type": "code",
   "execution_count": 23,
   "id": "7234c18a-98ac-461c-ac1a-ab2148584413",
   "metadata": {},
   "outputs": [
    {
     "data": {
      "text/plain": [
       "array([4, 6])"
      ]
     },
     "execution_count": 23,
     "metadata": {},
     "output_type": "execute_result"
    }
   ],
   "source": [
    "np.add([1, 2], [3, 4])\n"
   ]
  },
  {
   "cell_type": "code",
   "execution_count": 24,
   "id": "a18f23c5-b37b-460f-8cd0-97fe89285050",
   "metadata": {},
   "outputs": [
    {
     "data": {
      "text/plain": [
       "array([2, 4])"
      ]
     },
     "execution_count": 24,
     "metadata": {},
     "output_type": "execute_result"
    }
   ],
   "source": [
    "np.subtract([5, 6], [3, 2])\n"
   ]
  },
  {
   "cell_type": "code",
   "execution_count": 26,
   "id": "0027ac97-8643-4ea2-912d-4c0c79e04464",
   "metadata": {},
   "outputs": [
    {
     "name": "stdout",
     "output_type": "stream",
     "text": [
      "[ 0. 10. 20. 30. 40.]\n",
      "[ 0. 10. 20. 30. 40.]\n"
     ]
    }
   ],
   "source": [
    "x = np.arange(5)\n",
    "y = np.empty(5)\n",
    "y2 = np.zeros(10)\n",
    "print(np.multiply(x, 10, out=y)) # out - то куда запишется результат\n",
    "print(np.multiply(x, 10, out=y2[::2]))\n"
   ]
  },
  {
   "cell_type": "code",
   "execution_count": 28,
   "id": "6a176dee-3ee4-45b4-91d1-46044e8ecc63",
   "metadata": {},
   "outputs": [
    {
     "name": "stdout",
     "output_type": "stream",
     "text": [
      "[1 2 3 4]\n",
      "10\n"
     ]
    }
   ],
   "source": [
    "x = np.arange(1, 5)\n",
    "print(x)\n",
    "print(np.add.reduce(x)) # свертка суммы всего массива\n"
   ]
  },
  {
   "cell_type": "code",
   "execution_count": 30,
   "id": "d3996f1f-692d-48bf-bc74-8b0b0113c693",
   "metadata": {},
   "outputs": [
    {
     "name": "stdout",
     "output_type": "stream",
     "text": [
      "[[ 2  3  4  5  6  7  8  9 10]\n",
      " [ 3  4  5  6  7  8  9 10 11]\n",
      " [ 4  5  6  7  8  9 10 11 12]\n",
      " [ 5  6  7  8  9 10 11 12 13]\n",
      " [ 6  7  8  9 10 11 12 13 14]\n",
      " [ 7  8  9 10 11 12 13 14 15]\n",
      " [ 8  9 10 11 12 13 14 15 16]\n",
      " [ 9 10 11 12 13 14 15 16 17]\n",
      " [10 11 12 13 14 15 16 17 18]]\n"
     ]
    }
   ],
   "source": [
    "x = np.arange(1, 10)\n",
    "print(np.add.outer(x, x)) # квадратная матрица с результатами сложения попарно всех элементов\n"
   ]
  },
  {
   "cell_type": "code",
   "execution_count": null,
   "id": "0a17bbad-fb66-45f4-abb6-4c0531c55b8a",
   "metadata": {},
   "outputs": [],
   "source": []
  }
 ],
 "metadata": {
  "kernelspec": {
   "display_name": "Python 3 (ipykernel)",
   "language": "python",
   "name": "python3"
  },
  "language_info": {
   "codemirror_mode": {
    "name": "ipython",
    "version": 3
   },
   "file_extension": ".py",
   "mimetype": "text/x-python",
   "name": "python",
   "nbconvert_exporter": "python",
   "pygments_lexer": "ipython3",
   "version": "3.11.7"
  }
 },
 "nbformat": 4,
 "nbformat_minor": 5
}
