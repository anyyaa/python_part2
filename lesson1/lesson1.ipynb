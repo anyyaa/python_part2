{
 "cells": [
  {
   "cell_type": "markdown",
   "id": "4d8b66fe-5af1-4000-891c-ee6060ec8d36",
   "metadata": {},
   "source": [
    "## КОНСПЕКТ ЛЕКЦИИ:\n"
   ]
  },
  {
   "cell_type": "code",
   "execution_count": 3,
   "id": "87c3aea4-129f-4465-bb51-9260b912dce0",
   "metadata": {},
   "outputs": [
    {
     "name": "stdout",
     "output_type": "stream",
     "text": [
      "<class 'numpy.ndarray'> [1 2 3 4 5]\n",
      "<class 'numpy.ndarray'> [1.23 2.   3.   4.   5.  ]\n",
      "[[2 3 4]\n",
      " [4 5 6]\n",
      " [6 7 8]] <class 'numpy.ndarray'>\n",
      "[0 0 0 0 0 0 0 0 0 0] <class 'numpy.ndarray'>\n",
      "[[1. 1. 1. 1. 1.]\n",
      " [1. 1. 1. 1. 1.]]\n",
      "[[3.1415 3.1415 3.1415 3.1415 3.1415]\n",
      " [3.1415 3.1415 3.1415 3.1415 3.1415]\n",
      " [3.1415 3.1415 3.1415 3.1415 3.1415]\n",
      " [3.1415 3.1415 3.1415 3.1415 3.1415]]\n",
      "[ 0  2  4  6  8 10 12 14 16 18]\n",
      "[[1. 0. 0. 0.]\n",
      " [0. 1. 0. 0.]\n",
      " [0. 0. 1. 0.]\n",
      " [0. 0. 0. 1.]]\n"
     ]
    }
   ],
   "source": [
    "# ---про numpy---\n",
    "import numpy as np\n",
    "a = np.array([1,2,3,4,5])\n",
    "print(type(a), a)\n",
    "a = np.array([1.23, 2, 3, 4, 5])\n",
    "print(type(a), a)\n",
    "\n",
    "a = np.array([range(i, i+3) for i in [2, 4, 6]])\n",
    "print(a, type(a))\n",
    "\n",
    "a = np.zeros(10, dtype=int)\n",
    "print(a, type(a))\n",
    "\n",
    "print(np.ones((2, 5), dtype=float))\n",
    "\n",
    "print(np.full((4, 5), 3.1415))\n",
    "\n",
    "print(np.arange(0, 20, 2))\n",
    "\n",
    "print(np.eye(4))\n"
   ]
  },
  {
   "cell_type": "code",
   "execution_count": 4,
   "id": "1687fc30-337d-4d6b-aace-1f11e7a1f2a6",
   "metadata": {},
   "outputs": [
    {
     "name": "stdout",
     "output_type": "stream",
     "text": [
      "[5 8 9]\n",
      "[[5 0]\n",
      " [0 1]\n",
      " [7 6]]\n",
      "[[[9]\n",
      "  [2]]\n",
      "\n",
      " [[4]\n",
      "  [5]]\n",
      "\n",
      " [[2]\n",
      "  [4]]]\n",
      "3 (3, 2, 1) 6\n",
      "1\n",
      "4\n",
      "[ 1 20  3  4  5]\n",
      "1\n",
      "[[ 1  2]\n",
      " [20  4]]\n",
      "[10  2  3  4]\n"
     ]
    }
   ],
   "source": [
    "#---массивы---\n",
    "\n",
    "np.random.seed(1)\n",
    "x1 = np.random.randint(10, size=3)\n",
    "print(x1)\n",
    "x1 = np.random.randint(10, size=(3, 2))\n",
    "print(x1)\n",
    "x1 = np.random.randint(10, size=(3, 2, 1))\n",
    "print(x1)\n",
    "\n",
    "print(x1.ndim, x1.shape, x1.size)\n",
    "\n",
    "a = np.array([1,2,3, 4, 5])\n",
    "print(a[0])\n",
    "print(a[-2])\n",
    "a[1] = 20\n",
    "print(a)\n",
    "a = np.array([[1, 2], [3, 4]])\n",
    "print(a[0,0])\n",
    "a[1, 0] = 20\n",
    "print(a)\n",
    "a = np.array([1, 2, 3,4])\n",
    "b = np.array([1.0, 2, 3,4])\n",
    "\n",
    "a[0] = 10.123 # приведет к инту\n",
    "print(a) \n"
   ]
  },
  {
   "cell_type": "code",
   "execution_count": 23,
   "id": "dbab0c73-ea42-4c82-95f0-064a3bf37271",
   "metadata": {},
   "outputs": [
    {
     "name": "stdout",
     "output_type": "stream",
     "text": [
      "[1 2 3]\n",
      "[4 5 6]\n",
      "[3 4]\n",
      "[6 5 4 3 2 1]\n",
      "[[ 1.  2.  3.  4.  5.  6.]\n",
      " [ 7.  8.  9. 10. 11. 12.]]\n",
      "[1 2 3 4 5 6]\n",
      "[[1 2 3]\n",
      " [4 5 6]]\n",
      "[[1 2 3 1 2 3]\n",
      " [4 5 6 4 5 6]]\n"
     ]
    }
   ],
   "source": [
    "#---срезы---\n",
    "a = np.array([1, 2, 3, 4, 5, 6])\n",
    "print(a[:3])\n",
    "print(a[3:])\n",
    "print(a[2:4])\n",
    "print(a[::-1])\n",
    "\n",
    "a = np.linspace(1, 12, 12)\n",
    "print(a.reshape(2,6))\n",
    "\n",
    "x = np.array([1, 2, 3])\n",
    "y = np.array([4, 5])\n",
    "z = np.array([6])\n",
    "print(np.concatenate([x, y, z], axis=0))\n",
    "\n",
    "x = np.array([1, 2, 3])\n",
    "y = np.array([4, 5, 6])\n",
    "\n",
    "r1 = np.vstack([x, y]) # ставится один на другой\n",
    "print(r1)\n",
    "print(np.hstack((r1, r1))) # склеиваются сбоку\n"
   ]
  },
  {
   "cell_type": "code",
   "execution_count": 26,
   "id": "4600ab85-5684-465b-8123-e9fad41c7d25",
   "metadata": {},
   "outputs": [
    {
     "name": "stdout",
     "output_type": "stream",
     "text": [
      "[0 1 2 3 4 5 6 7 8 9]\n",
      "[ 1  3  5  7  9 11 13 15 17 19]\n",
      "[ 1  3  5  7  9 11 13 15 17 19]\n",
      "[ 0. 10. 20. 30. 40.]\n",
      "[ 0. 10. 20. 30. 40.]\n",
      "[1 2 3 4]\n",
      "10\n",
      "[ 1  3  6 10]\n",
      "[[ 2  3  4  5  6  7  8  9 10]\n",
      " [ 3  4  5  6  7  8  9 10 11]\n",
      " [ 4  5  6  7  8  9 10 11 12]\n",
      " [ 5  6  7  8  9 10 11 12 13]\n",
      " [ 6  7  8  9 10 11 12 13 14]\n",
      " [ 7  8  9 10 11 12 13 14 15]\n",
      " [ 8  9 10 11 12 13 14 15 16]\n",
      " [ 9 10 11 12 13 14 15 16 17]\n",
      " [10 11 12 13 14 15 16 17 18]]\n"
     ]
    }
   ],
   "source": [
    "#---вычисления с массивами---\n",
    "#векторизованная операция применяется независимо к каждому элементу\n",
    "\n",
    "x = np.arange(10)\n",
    "print(x)\n",
    "\n",
    "print(x*2 + 1)\n",
    "\n",
    "#универсальные функции\n",
    "print(np.add(np.multiply(x, 2), 1))\n",
    "# - - / // ** %\n",
    "\n",
    "x = np.arange(5)\n",
    "y = np.empty(5)\n",
    "y2 = np.zeros(10)\n",
    "print(np.multiply(x, 10, out=y)) # out - то куда запишется результат\n",
    "print(np.multiply(x, 10, out=y2[::2]))\n",
    "\n",
    "x = np.arange(1, 5)\n",
    "print(x)\n",
    "print(np.add.reduce(x)) #- свертка суммы всего массива\n",
    "\n",
    "print(np.add.accumulate(x)) #- постепенная свертка. результат - в массив\n",
    "\n",
    "x = np.arange(1, 10)\n",
    "print(np.add.outer(x, x)) #- квадратная матрица с результатами сложения попарно всех элементов\n",
    "\n"
   ]
  },
  {
   "cell_type": "code",
   "execution_count": null,
   "id": "f316f0a0-b122-40c1-a6c7-235afc724b68",
   "metadata": {},
   "outputs": [],
   "source": []
  }
 ],
 "metadata": {
  "kernelspec": {
   "display_name": "Python 3 (ipykernel)",
   "language": "python",
   "name": "python3"
  },
  "language_info": {
   "codemirror_mode": {
    "name": "ipython",
    "version": 3
   },
   "file_extension": ".py",
   "mimetype": "text/x-python",
   "name": "python",
   "nbconvert_exporter": "python",
   "pygments_lexer": "ipython3",
   "version": "3.11.7"
  }
 },
 "nbformat": 4,
 "nbformat_minor": 5
}
