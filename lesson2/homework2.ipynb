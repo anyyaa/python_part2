{
 "cells": [
  {
   "cell_type": "markdown",
   "id": "3ceb60f5-5afa-4585-9c18-763595d36311",
   "metadata": {},
   "source": [
    "## 1. Что надо изменить в последнем примере, чтобы он заработал без ошибок (транслирование)?"
   ]
  },
  {
   "cell_type": "code",
   "execution_count": 2,
   "id": "c2dd3fb8-0143-4c65-b086-cc054ee1c149",
   "metadata": {},
   "outputs": [
    {
     "name": "stdout",
     "output_type": "stream",
     "text": [
      "[[1. 1.]\n",
      " [2. 2.]\n",
      " [3. 3.]]\n"
     ]
    }
   ],
   "source": [
    "import numpy as np\n",
    "\n",
    "a = np.ones((3, 2))\n",
    "b = np.arange(3).reshape(3, 1)  # b в форму (3, 1)\n",
    "c = a + b  # broadcasting будет работать\n",
    "print(c)\n"
   ]
  },
  {
   "cell_type": "markdown",
   "id": "55d35033-9d13-4f58-bea3-943f4f8029bf",
   "metadata": {},
   "source": [
    "## 2. Пример для y. Вычислить количество элементов (по обоим размерностям), значения которых больше 3 и меньше 9\n"
   ]
  },
  {
   "cell_type": "code",
   "execution_count": 3,
   "id": "ae1cabb5-3e87-4976-aefa-7595ce23c73d",
   "metadata": {},
   "outputs": [
    {
     "name": "stdout",
     "output_type": "stream",
     "text": [
      "5\n"
     ]
    }
   ],
   "source": [
    "y = np.array([[1, 2, 3, 4, 5], [6, 7, 8, 9, 10]])\n",
    "condition = (y > 3) & (y < 9)\n",
    "count = np.sum(condition)\n",
    "print(count)\n"
   ]
  },
  {
   "cell_type": "code",
   "execution_count": null,
   "id": "6340d614-08f0-434c-b6b5-aca4e214b0c2",
   "metadata": {},
   "outputs": [],
   "source": []
  }
 ],
 "metadata": {
  "kernelspec": {
   "display_name": "Python 3 (ipykernel)",
   "language": "python",
   "name": "python3"
  },
  "language_info": {
   "codemirror_mode": {
    "name": "ipython",
    "version": 3
   },
   "file_extension": ".py",
   "mimetype": "text/x-python",
   "name": "python",
   "nbconvert_exporter": "python",
   "pygments_lexer": "ipython3",
   "version": "3.11.7"
  }
 },
 "nbformat": 4,
 "nbformat_minor": 5
}
