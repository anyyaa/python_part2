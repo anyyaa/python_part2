{
 "cells": [
  {
   "cell_type": "code",
   "execution_count": 1,
   "id": "a9e13f0f-817b-4acb-b08f-e7eab0244197",
   "metadata": {},
   "outputs": [
    {
     "name": "stdout",
     "output_type": "stream",
     "text": [
      "city_1  2010    101\n",
      "        2020    201\n",
      "city_2  2010    102\n",
      "        2020    202\n",
      "city_3  2010    102\n",
      "        2020    203\n",
      "dtype: int64\n",
      "             total  something\n",
      "city_1 2010    101         10\n",
      "       2020    201         11\n",
      "city_2 2010    102         12\n",
      "       2020    202         13\n",
      "city_3 2010    102         14\n",
      "       2020    203         15\n",
      "2010    10\n",
      "2020    11\n",
      "Name: something, dtype: int64\n",
      "             total  something\n",
      "city_1 2010    101         10\n",
      "       2020    201         11\n",
      "city_3 2010    102         14\n",
      "       2020    203         15\n",
      "city_1  2010    10\n",
      "        2020    11\n",
      "city_3  2010    14\n",
      "        2020    15\n",
      "Name: something, dtype: int64\n"
     ]
    }
   ],
   "source": [
    "# # 1. Разобраться как использовать мультииндексные ключи в данном примере\n",
    "# index = [\n",
    "#     ('city_1', 2010),\n",
    "#     ('city_1', 2020),\n",
    "#     ('city_2', 2010),\n",
    "#     ('city_2', 2020),\n",
    "#     ('city_3', 2010),\n",
    "#     ('city_3', 2020),\n",
    "# ]\n",
    "\n",
    "# population = [\n",
    "#     101,\n",
    "#     201,\n",
    "#     102,\n",
    "#     202,\n",
    "#     103,\n",
    "#     203,\n",
    "# ]\n",
    "# pop = pd.Series(population, index = index)\n",
    "# pop_df = pd.DataFrame(\n",
    "#     {\n",
    "#         'total': pop,\n",
    "#         'something': [\n",
    "#             10,\n",
    "#             11,\n",
    "#             12,\n",
    "#             13,\n",
    "#             14,\n",
    "#             15,\n",
    "#         ]\n",
    "#     }\n",
    "# )\n",
    "\n",
    "# ???? ## pop_df_1 = pop_df.loc???['city_1', 'something']\n",
    "# ???? ## pop_df_1 = pop_df.loc???[['city_1', 'city_3'], ['total', 'something']]\n",
    "# ???? ## pop_df_1 = pop_df.loc???[['city_1', 'city_3'], 'something']\n",
    "\n",
    "\n",
    "\n",
    "import pandas as pd\n",
    "\n",
    "index = [\n",
    "    ('city_1', 2010),\n",
    "    ('city_1', 2020),\n",
    "    ('city_2', 2010),\n",
    "    ('city_2', 2020),\n",
    "    ('city_3', 2010),\n",
    "    ('city_3', 2020),\n",
    "]\n",
    "population = [\n",
    "    101,\n",
    "    201,\n",
    "    102,\n",
    "    202,\n",
    "    102,\n",
    "    203,\n",
    "]\n",
    "\n",
    "multi_index = pd.MultiIndex.from_tuples(index)\n",
    "pop = pd.Series(population, index=multi_index)\n",
    "print(pop)\n",
    "\n",
    "pop_df = pd.DataFrame(\n",
    "    {\n",
    "        'total': pop,\n",
    "        'something': [\n",
    "            10,\n",
    "            11,\n",
    "            12,\n",
    "            13,\n",
    "            14,\n",
    "            15,\n",
    "        ]\n",
    "    }\n",
    ")\n",
    "print(pop_df)\n",
    "\n",
    "pop_df_1 = pop_df.loc['city_1', 'something']\n",
    "print(pop_df_1)\n",
    "pop_df_1 = pop_df.loc[['city_1', 'city_3'], ['total', 'something']]\n",
    "print(pop_df_1)\n",
    "pop_df_1 = pop_df.loc[['city_1', 'city_3'], 'something']\n",
    "print(pop_df_1)"
   ]
  },
  {
   "cell_type": "code",
   "execution_count": 2,
   "id": "61ac3fff-baf4-48ed-8792-4777e8331d73",
   "metadata": {},
   "outputs": [
    {
     "name": "stdout",
     "output_type": "stream",
     "text": [
      "                   total  something\n",
      "city   year job                    \n",
      "city_1 2010 job_1    101         10\n",
      "            job_2    102         11\n",
      "       2020 job_1    201         12\n",
      "            job_2    202         13\n",
      "city_2 2010 job_1    103         14\n",
      "            job_2    104         15\n",
      "       2020 job_1    203         16\n",
      "            job_2    204         17\n",
      "city_3 2010 job_1    105         18\n",
      "            job_2    106         19\n",
      "       2020 job_1    205         20\n",
      "            job_2    206         21\n"
     ]
    }
   ],
   "source": [
    "# 2. Из получившихся данных выбрать данные по \n",
    "# - 2020 году (для всех столбцов)\n",
    "# - job_1 (для всех строк)\n",
    "# - для city_1 и job_2 \n",
    "\n",
    "\n",
    "import pandas as pd\n",
    "\n",
    "index = pd.MultiIndex.from_tuples([\n",
    "    ('city_1', 2010, 'job_1'),\n",
    "    ('city_1', 2010, 'job_2'),\n",
    "    ('city_1', 2020, 'job_1'),\n",
    "    ('city_1', 2020, 'job_2'),\n",
    "    ('city_2', 2010, 'job_1'),\n",
    "    ('city_2', 2010, 'job_2'),\n",
    "    ('city_2', 2020, 'job_1'),\n",
    "    ('city_2', 2020, 'job_2'),\n",
    "    ('city_3', 2010, 'job_1'),\n",
    "    ('city_3', 2010, 'job_2'),\n",
    "    ('city_3', 2020, 'job_1'),\n",
    "    ('city_3', 2020, 'job_2'),\n",
    "], names=['city', 'year', 'job'])\n",
    "\n",
    "population = [101, 102, 201, 202, 103, 104, 203, 204, 105, 106, 205, 206]\n",
    "pop = pd.Series(population, index=index)\n",
    "pop_df = pd.DataFrame(\n",
    "    {\n",
    "        'total': pop,\n",
    "        'something': [10, 11, 12, 13, 14, 15, 16, 17, 18, 19, 20, 21]\n",
    "    }\n",
    ")\n",
    "\n",
    "print(pop_df)\n",
    "\n"
   ]
  },
  {
   "cell_type": "code",
   "execution_count": 3,
   "id": "c5452192-afa2-4820-bb16-52ff271b5985",
   "metadata": {},
   "outputs": [
    {
     "name": "stdout",
     "output_type": "stream",
     "text": [
      "              total  something\n",
      "city   job                    \n",
      "city_1 job_1    201         12\n",
      "       job_2    202         13\n",
      "city_2 job_1    203         16\n",
      "       job_2    204         17\n",
      "city_3 job_1    205         20\n",
      "       job_2    206         21\n"
     ]
    }
   ],
   "source": [
    "pop_2020 = pop_df.xs(2020, level='year')\n",
    "print(pop_2020)\n"
   ]
  },
  {
   "cell_type": "code",
   "execution_count": 4,
   "id": "6341bf0b-da58-460c-a4bb-c5d383d43b9e",
   "metadata": {},
   "outputs": [
    {
     "name": "stdout",
     "output_type": "stream",
     "text": [
      "             total  something\n",
      "city   year                  \n",
      "city_1 2010    101         10\n",
      "       2020    201         12\n",
      "city_2 2010    103         14\n",
      "       2020    203         16\n",
      "city_3 2010    105         18\n",
      "       2020    205         20\n"
     ]
    }
   ],
   "source": [
    "pop_job_1 = pop_df.xs('job_1', level='job')\n",
    "print(pop_job_1)\n"
   ]
  },
  {
   "cell_type": "code",
   "execution_count": 5,
   "id": "690dde7a-a58a-4a91-b559-04141091c09a",
   "metadata": {},
   "outputs": [
    {
     "name": "stdout",
     "output_type": "stream",
     "text": [
      "      total  something\n",
      "year                  \n",
      "2010    102         11\n",
      "2020    202         13\n"
     ]
    }
   ],
   "source": [
    "pop_city1_job2 = pop_df.loc[('city_1', slice(None), 'job_2')]\n",
    "print(pop_city1_job2)\n"
   ]
  },
  {
   "cell_type": "code",
   "execution_count": 6,
   "id": "517d107e-7682-47c4-9230-fa1c6fdd7e85",
   "metadata": {},
   "outputs": [],
   "source": [
    "# 3. Взять за основу DataFrame со следующей структурой\n",
    "# index = pd.MultiIndex.from_product(\n",
    "#     [\n",
    "#         ['city_1', 'city_2'],\n",
    "#         [2010, 2020]\n",
    "#     ],\n",
    "#     names=['city', 'year']\n",
    "# )\n",
    "# columns = pd.MultiIndex.from_product(\n",
    "#     [\n",
    "#         ['person_1', 'person_2', 'person_3'],\n",
    "#         ['job_1', 'job_2']\n",
    "#     ],\n",
    "#     names=['worker', 'job']\n",
    "# )\n",
    "# \n",
    "# Выполнить запрос на получение следующих данных\n",
    "# - все данные по person_1 и person_3\n",
    "# - все данные по первому городу и первым двум person-ам (с использование срезов)\n",
    "#\n",
    "# Приведите пример (самостоятельно) с использованием pd.IndexSlice\n"
   ]
  },
  {
   "cell_type": "code",
   "execution_count": 7,
   "id": "aca4b3b9-f59f-4f7f-862c-a3b566b242c1",
   "metadata": {},
   "outputs": [
    {
     "name": "stdout",
     "output_type": "stream",
     "text": [
      "worker      person_1       person_2       person_3      \n",
      "job            job_1 job_2    job_1 job_2    job_1 job_2\n",
      "city   year                                             \n",
      "city_1 2010        1    45       43    96        4    85\n",
      "       2020       32    25       20    73       28     3\n",
      "city_2 2010       53    80       30    62       33    35\n",
      "       2020       46    58       59    46       63    36\n"
     ]
    }
   ],
   "source": [
    "import pandas as pd\n",
    "import numpy as np\n",
    "\n",
    "index = pd.MultiIndex.from_product([['city_1', 'city_2'], [2010, 2020]], \n",
    "    names=['city', 'year'])\n",
    "\n",
    "columns = pd.MultiIndex.from_product(\n",
    "[['person_1', 'person_2', 'person_3'], ['job_1', 'job_2']], \n",
    "    names=['worker', 'job'])\n",
    "\n",
    "data = np.random.randint(1, 100, size=(len(index), len(columns)))\n",
    "df = pd.DataFrame(data, index=index, columns=columns)\n",
    "\n",
    "print(df)\n"
   ]
  },
  {
   "cell_type": "code",
   "execution_count": 8,
   "id": "35357a34-57f2-4c8e-87d0-0ed8a7c28f45",
   "metadata": {},
   "outputs": [
    {
     "name": "stdout",
     "output_type": "stream",
     "text": [
      "worker      person_1       person_3      \n",
      "job            job_1 job_2    job_1 job_2\n",
      "city   year                              \n",
      "city_1 2010        1    45        4    85\n",
      "       2020       32    25       28     3\n",
      "city_2 2010       53    80       33    35\n",
      "       2020       46    58       63    36\n"
     ]
    }
   ],
   "source": [
    "df_persons = df.loc[:, ['person_1', 'person_3']]\n",
    "print(df_persons)\n"
   ]
  },
  {
   "cell_type": "code",
   "execution_count": 9,
   "id": "fee5b494-fb3a-4160-ad71-9eead9e3fa53",
   "metadata": {},
   "outputs": [
    {
     "name": "stdout",
     "output_type": "stream",
     "text": [
      "worker person_1       person_2      \n",
      "job       job_1 job_2    job_1 job_2\n",
      "year                                \n",
      "2010          1    45       43    96\n",
      "2020         32    25       20    73\n"
     ]
    }
   ],
   "source": [
    "df_city1_persons = df.loc['city_1', 'person_1':'person_2']\n",
    "print(df_city1_persons)\n"
   ]
  },
  {
   "cell_type": "code",
   "execution_count": 10,
   "id": "bae5ead1-96d8-481e-82d8-21dc629202a0",
   "metadata": {},
   "outputs": [
    {
     "name": "stdout",
     "output_type": "stream",
     "text": [
      "worker      person_1       person_3      \n",
      "job            job_1 job_2    job_1 job_2\n",
      "city   year                              \n",
      "city_1 2010        1    45        4    85\n",
      "       2020       32    25       28     3\n",
      "city_2 2010       53    80       33    35\n",
      "       2020       46    58       63    36\n"
     ]
    }
   ],
   "source": [
    "idx = pd.IndexSlice\n",
    "df_slice = df.loc[idx[:, :], idx[['person_1', 'person_3'], :]]\n",
    "print(df_slice)\n"
   ]
  },
  {
   "cell_type": "code",
   "execution_count": 11,
   "id": "436d4015-01a7-4ad9-9ec2-e4ed0c3e469a",
   "metadata": {},
   "outputs": [],
   "source": [
    "#4. Привести пример использования inner и outer джойнов для Series (данные примера скорее всего нужно изменить)\n",
    "# ser1 = pd.Series(['a', 'b', 'c'], index=[1,2,3])\n",
    "# ser2 = pd.Series(['b', 'c', 'f'], index=[4,5,6])\n",
    "\n",
    "# print (pd.concat([ser1, ser2], join='outer'))\n",
    "# print (pd.concat([ser1, ser2], join='inner'))"
   ]
  },
  {
   "cell_type": "code",
   "execution_count": 12,
   "id": "a448a720-433b-4590-b356-3cd036d75957",
   "metadata": {},
   "outputs": [
    {
     "name": "stdout",
     "output_type": "stream",
     "text": [
      "ser1:\n",
      " 1    a\n",
      "2    b\n",
      "3    c\n",
      "dtype: object\n",
      "\n",
      "ser2:\n",
      " 3    d\n",
      "4    e\n",
      "5    f\n",
      "dtype: object\n"
     ]
    }
   ],
   "source": [
    "import pandas as pd\n",
    "\n",
    "ser1 = pd.Series(['a', 'b', 'c'], index=[1, 2, 3])\n",
    "ser2 = pd.Series(['d', 'e', 'f'], index=[3, 4, 5])\n",
    "\n",
    "print(\"ser1:\\n\", ser1)\n",
    "print(\"\\nser2:\\n\", ser2)"
   ]
  },
  {
   "cell_type": "code",
   "execution_count": 13,
   "id": "a9e0737a-fc63-4b38-81f6-e2230673d690",
   "metadata": {},
   "outputs": [
    {
     "name": "stdout",
     "output_type": "stream",
     "text": [
      "\n",
      "Outer Join:\n",
      "      0    1\n",
      "1    a  NaN\n",
      "2    b  NaN\n",
      "3    c    d\n",
      "4  NaN    e\n",
      "5  NaN    f\n"
     ]
    }
   ],
   "source": [
    "outer_join = pd.concat([ser1, ser2], axis=1, join='outer')\n",
    "print(\"\\nOuter Join:\\n\", outer_join)\n"
   ]
  },
  {
   "cell_type": "code",
   "execution_count": null,
   "id": "31e4b438-34e4-4f19-bc2b-6be090e36b85",
   "metadata": {},
   "outputs": [],
   "source": []
  }
 ],
 "metadata": {
  "kernelspec": {
   "display_name": "Python 3 (ipykernel)",
   "language": "python",
   "name": "python3"
  },
  "language_info": {
   "codemirror_mode": {
    "name": "ipython",
    "version": 3
   },
   "file_extension": ".py",
   "mimetype": "text/x-python",
   "name": "python",
   "nbconvert_exporter": "python",
   "pygments_lexer": "ipython3",
   "version": "3.11.7"
  }
 },
 "nbformat": 4,
 "nbformat_minor": 5
}
