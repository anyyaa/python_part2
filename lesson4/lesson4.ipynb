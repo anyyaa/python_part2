{
 "cells": [
  {
   "cell_type": "code",
   "execution_count": null,
   "id": "a8a03031-d8cc-4330-993e-23dc8fe26285",
   "metadata": {},
   "outputs": [],
   "source": [
    "#при размерность данных >2, то используют иерархическую индексацию - мультииндекс"
   ]
  },
  {
   "cell_type": "code",
   "execution_count": 1,
   "id": "27c1ea20-c4db-4bff-b4ce-6c3b06f6afbf",
   "metadata": {},
   "outputs": [
    {
     "name": "stdout",
     "output_type": "stream",
     "text": [
      "(city_1, 2010)    101\n",
      "(city_1, 2020)    201\n",
      "(city_2, 2010)    102\n",
      "(city_2, 2020)    202\n",
      "(city_3, 2010)    102\n",
      "(city_3, 2020)    203\n",
      "dtype: int64\n",
      "(city_1, 2020)    201\n",
      "(city_2, 2020)    202\n",
      "(city_3, 2020)    203\n",
      "dtype: int64\n"
     ]
    }
   ],
   "source": [
    "import numpy as np\n",
    "import pandas as pd\n",
    "\n",
    "index = [('city_1', 2010),\n",
    "    ('city_1', 2020),\n",
    "    ('city_2', 2010),\n",
    "    ('city_2', 2020),\n",
    "    ('city_3', 2010),\n",
    "    ('city_3', 2020)]\n",
    "population = [101,201,102,202,102,203]\n",
    "\n",
    "pop = pd.Series(population, index = index)\n",
    "print(pop)\n",
    "print(pop[[i for i in pop.index if i[1] == 2020]])"
   ]
  },
  {
   "cell_type": "code",
   "execution_count": 2,
   "id": "1477b050-0be8-4bad-a95e-d815006e7032",
   "metadata": {},
   "outputs": [
    {
     "name": "stdout",
     "output_type": "stream",
     "text": [
      "city_1  2010    101\n",
      "        2020    201\n",
      "city_2  2010    102\n",
      "        2020    202\n",
      "city_3  2010    102\n",
      "        2020    203\n",
      "dtype: int64\n",
      "city_1    201\n",
      "city_2    202\n",
      "city_3    203\n",
      "dtype: int64\n"
     ]
    }
   ],
   "source": [
    "index = pd.MultiIndex.from_tuples(index)\n",
    "pop = pop.reindex(index)\n",
    "print(pop)\n",
    "print(pop[:, 2020])"
   ]
  },
  {
   "cell_type": "code",
   "execution_count": 3,
   "id": "60dfa6ec-a249-4074-ad27-7dc55985f587",
   "metadata": {},
   "outputs": [
    {
     "name": "stdout",
     "output_type": "stream",
     "text": [
      "        2010  2020\n",
      "city_1   101   201\n",
      "city_2   102   202\n",
      "city_3   102   203\n",
      "city_1  2010    101\n",
      "        2020    201\n",
      "city_2  2010    102\n",
      "        2020    202\n",
      "city_3  2010    102\n",
      "        2020    203\n",
      "dtype: int64\n"
     ]
    }
   ],
   "source": [
    "pop_df = pop.unstack()\n",
    "print(pop_df)\n",
    "print(pop_df.stack())"
   ]
  },
  {
   "cell_type": "code",
   "execution_count": 4,
   "id": "a86ae39b-5008-4c9a-bf63-6892946b7ce2",
   "metadata": {},
   "outputs": [
    {
     "name": "stdout",
     "output_type": "stream",
     "text": [
      "(city_1, 2010, 1)     101\n",
      "(city_1, 2010, 2)    1010\n",
      "(city_1, 2020, 1)     201\n",
      "(city_1, 2020, 2)    2010\n",
      "(city_2, 2010, 1)     102\n",
      "(city_2, 2010, 2)    1020\n",
      "(city_2, 2020, 1)     202\n",
      "(city_2, 2020, 2)    2020\n",
      "(city_3, 2010, 1)     102\n",
      "(city_3, 2010, 2)    1020\n",
      "(city_3, 2020, 1)     203\n",
      "(city_3, 2020, 2)    2030\n",
      "dtype: int64\n",
      "city_1  2010  1     101\n",
      "              2    1010\n",
      "        2020  1     201\n",
      "              2    2010\n",
      "city_2  2010  1     102\n",
      "              2    1020\n",
      "        2020  1     202\n",
      "              2    2020\n",
      "city_3  2010  1     102\n",
      "              2    1020\n",
      "        2020  1     203\n",
      "              2    2030\n",
      "dtype: int64\n",
      "city_1  1     101\n",
      "        2    1010\n",
      "city_2  1     102\n",
      "        2    1020\n",
      "city_3  1     102\n",
      "        2    1020\n",
      "dtype: int64\n",
      "city_1  2010    1010\n",
      "        2020    2010\n",
      "city_2  2010    1020\n",
      "        2020    2020\n",
      "city_3  2010    1020\n",
      "        2020    2030\n",
      "dtype: int64\n"
     ]
    }
   ],
   "source": [
    "population = [101,1010,201,2010,102,1020,202,2020,102,1020,203,2030]\n",
    "index = [('city_1', 2010, 1),\n",
    "    ('city_1', 2010, 2),\n",
    "    \n",
    "    ('city_1', 2020, 1),\n",
    "    ('city_1', 2020, 2),\n",
    "    \n",
    "    ('city_2', 2010, 1),\n",
    "    ('city_2', 2010, 2),\n",
    "    \n",
    "    ('city_2', 2020, 1),\n",
    "    ('city_2', 2020, 2),\n",
    "    \n",
    "    ('city_3', 2010, 1),\n",
    "    ('city_3', 2010, 2),\n",
    "    \n",
    "    ('city_3', 2020, 1),\n",
    "    ('city_3', 2020, 2)]\n",
    "pop = pd.Series(population, index = index)\n",
    "print(pop)\n",
    "\n",
    "index = pd.MultiIndex.from_tuples(index)\n",
    "pop = pop.reindex(index) #по уровням\n",
    "print(pop)\n",
    "\n",
    "print(pop[:,2010])\n",
    "print(pop[:,:,2])"
   ]
  },
  {
   "cell_type": "code",
   "execution_count": 5,
   "id": "6519aabf-84a1-40ee-b9b8-d8a55f0ae025",
   "metadata": {},
   "outputs": [
    {
     "name": "stdout",
     "output_type": "stream",
     "text": [
      "               1     2\n",
      "city_1 2010  101  1010\n",
      "       2020  201  2010\n",
      "city_2 2010  102  1020\n",
      "       2020  202  2020\n",
      "city_3 2010  102  1020\n",
      "       2020  203  2030\n",
      "city_1  2010  1     101\n",
      "              2    1010\n",
      "        2020  1     201\n",
      "              2    2010\n",
      "city_2  2010  1     102\n",
      "              2    1020\n",
      "        2020  1     202\n",
      "              2    2020\n",
      "city_3  2010  1     102\n",
      "              2    1020\n",
      "        2020  1     203\n",
      "              2    2030\n",
      "dtype: int64\n"
     ]
    }
   ],
   "source": [
    "pop_df = pop.unstack()\n",
    "\n",
    "print(pop_df)\n",
    "print(pop_df.stack())"
   ]
  },
  {
   "cell_type": "code",
   "execution_count": 7,
   "id": "de2d09ee-cb02-4d76-ab14-1f2559ffa77f",
   "metadata": {},
   "outputs": [
    {
     "name": "stdout",
     "output_type": "stream",
     "text": [
      "(city_1, 2010)    101\n",
      "(city_1, 2020)    201\n",
      "(city_2, 2010)    102\n",
      "(city_2, 2020)    202\n",
      "(city_3, 2010)    102\n",
      "(city_3, 2020)    203\n",
      "dtype: int64\n",
      "                total  something\n",
      "(city_1, 2010)    101         10\n",
      "(city_1, 2020)    201         11\n",
      "(city_2, 2010)    102         12\n",
      "(city_2, 2020)    202         13\n",
      "(city_3, 2010)    102         14\n",
      "(city_3, 2020)    203         15\n",
      "(city_1, 2010)    10\n",
      "(city_1, 2020)    11\n",
      "(city_2, 2010)    12\n",
      "(city_2, 2020)    13\n",
      "(city_3, 2010)    14\n",
      "(city_3, 2020)    15\n",
      "Name: something, dtype: int64\n"
     ]
    }
   ],
   "source": [
    "index = [('city_1', 2010),\n",
    "    ('city_1', 2020),\n",
    "    ('city_2', 2010),\n",
    "    ('city_2', 2020),\n",
    "    ('city_3', 2010),\n",
    "    ('city_3', 2020)]\n",
    "population = [101,201,102,202,102,203]\n",
    "\n",
    "pop = pd.Series(population, index = index)\n",
    "print(pop)\n",
    "index = pd.MultiIndex.from_tuples(index)\n",
    "pop_df = pd.DataFrame({'total' : pop,\n",
    "        'something' : [10,11,12,13,14,15,]})\n",
    "\n",
    "print(pop_df)\n",
    "print(pop_df['something'])"
   ]
  },
  {
   "cell_type": "code",
   "execution_count": 9,
   "id": "44a241d6-53c8-4961-8515-0891d43dc8c3",
   "metadata": {},
   "outputs": [
    {
     "name": "stdout",
     "output_type": "stream",
     "text": [
      "MultiIndex([('a', 1),\n",
      "            ('a', 2),\n",
      "            ('b', 1),\n",
      "            ('b', 2)],\n",
      "           )\n",
      "MultiIndex([('a', 1),\n",
      "            ('a', 2),\n",
      "            ('b', 1),\n",
      "            ('b', 2)],\n",
      "           )\n",
      "MultiIndex([('a', 1),\n",
      "            ('a', 2),\n",
      "            ('b', 1),\n",
      "            ('b', 2)],\n",
      "           )\n",
      "MultiIndex([('a', 1),\n",
      "            ('a', 2),\n",
      "            ('b', 1),\n",
      "            ('b', 2)],\n",
      "           )\n"
     ]
    }
   ],
   "source": [
    "#мультииндексы:\n",
    "# 1.список массивов которые задают значения индекса на каждом уровне \n",
    "i1 = pd.MultiIndex.from_arrays([['a','a','b','b'],[1,2,1,2]])\n",
    "print(i1)\n",
    "\n",
    "# 2.список кортежей, задающих значение индекса в каждой точке\n",
    "i2 = pd.MultiIndex.from_tuples([('a', 1),('a', 2),('b', 1),('b', 2),])\n",
    "print(i2)\n",
    "\n",
    "# 3. декартово произведение обычных индексов\n",
    "i3 = pd.MultiIndex.from_product([['a','b'],[1,2]])\n",
    "print(i3)\n",
    "\n",
    "# 4. описание внутреннего представления: levels, codes\n",
    "i4 = pd.MultiIndex(levels = [['a','b'],[1,2]],codes = [[0,0,1,1], [0,1,0,1]])\n",
    "print(i4)"
   ]
  },
  {
   "cell_type": "code",
   "execution_count": 10,
   "id": "44868350-78bb-4c3f-a0ae-c8f7fac68d8b",
   "metadata": {},
   "outputs": [
    {
     "name": "stdout",
     "output_type": "stream",
     "text": [
      "city_1  2010     100\n",
      "        2020     200\n",
      "city_2  2010    1001\n",
      "        2020    2001\n",
      "dtype: int64\n",
      "city    year\n",
      "city_1  2010     100\n",
      "        2020     200\n",
      "city_2  2010    1001\n",
      "        2020    2001\n",
      "dtype: int64\n"
     ]
    }
   ],
   "source": [
    "# names for levels\n",
    "\n",
    "data = {('city_1', 2010): 100,\n",
    "    ('city_1', 2020): 200,\n",
    "    ('city_2', 2010): 1001,\n",
    "    ('city_2', 2020): 2001}\n",
    "\n",
    "s = pd.Series(data)\n",
    "print(s)\n",
    "s.index.names = ['city','year']\n",
    "print(s)"
   ]
  },
  {
   "cell_type": "code",
   "execution_count": 11,
   "id": "f966bc5e-3f2a-40ee-8c4c-47d3026a5b04",
   "metadata": {},
   "outputs": [
    {
     "name": "stdout",
     "output_type": "stream",
     "text": [
      "MultiIndex([('city_1', 2010),\n",
      "            ('city_1', 2020),\n",
      "            ('city_2', 2010),\n",
      "            ('city_2', 2020)],\n",
      "           names=['city', 'year'])\n",
      "[[0.51182162 0.9504637  0.14415961 0.94864945 0.31183145 0.42332645\n",
      "  0.82770259 0.40919914 0.54959369]\n",
      " [0.02755911 0.75351311 0.53814331 0.32973172 0.7884287  0.30319483\n",
      "  0.45349789 0.1340417  0.40311299]\n",
      " [0.20345524 0.26231334 0.75036467 0.28040876 0.48519097 0.9807372\n",
      "  0.96165719 0.72478994 0.54122686]\n",
      " [0.2768912  0.16065201 0.96992541 0.51606859 0.11586561 0.62348976\n",
      "  0.77668311 0.6130033  0.9172977 ]]\n",
      "worker       person_1                      person_2                      \\\n",
      "job              job1      job2      job3      job1      job2      job3   \n",
      "city   year                                                               \n",
      "city_1 2010  0.511822  0.950464  0.144160  0.948649  0.311831  0.423326   \n",
      "       2020  0.027559  0.753513  0.538143  0.329732  0.788429  0.303195   \n",
      "city_2 2010  0.203455  0.262313  0.750365  0.280409  0.485191  0.980737   \n",
      "       2020  0.276891  0.160652  0.969925  0.516069  0.115866  0.623490   \n",
      "\n",
      "worker       person_3                      \n",
      "job              job1      job2      job3  \n",
      "city   year                                \n",
      "city_1 2010  0.827703  0.409199  0.549594  \n",
      "       2020  0.453498  0.134042  0.403113  \n",
      "city_2 2010  0.961657  0.724790  0.541227  \n",
      "       2020  0.776683  0.613003  0.917298  \n"
     ]
    }
   ],
   "source": [
    "index = pd.MultiIndex.from_product([['city_1','city_2'],\n",
    "                                    [2010,2020]],names = ['city','year'])\n",
    "print(index)\n",
    "columns = pd.MultiIndex.from_product(\n",
    "    [['person_1','person_2', 'person_3'],['job1','job2','job3']],\n",
    "    names = ['worker','job'])\n",
    "\n",
    "rng = np.random.default_rng(1)\n",
    "data = rng.random((4,9))\n",
    "print(data)\n",
    "\n",
    "data_df = pd.DataFrame(data, index=index, columns=columns)\n",
    "print(data_df)"
   ]
  },
  {
   "cell_type": "code",
   "execution_count": 14,
   "id": "81d6c66a-e625-46c6-a610-cc86d5098a5f",
   "metadata": {},
   "outputs": [
    {
     "name": "stdout",
     "output_type": "stream",
     "text": [
      "100\n",
      "year\n",
      "2010    100\n",
      "2020    200\n",
      "dtype: int64\n",
      "city    year\n",
      "city_1  2010     100\n",
      "        2020     200\n",
      "city_2  2010    1001\n",
      "        2020    2001\n",
      "dtype: int64\n",
      "city\n",
      "city_1      100\n",
      "city_2     1001\n",
      "city_3    10001\n",
      "dtype: int64\n",
      "city    year\n",
      "city_2  2020     2001\n",
      "city_3  2010    10001\n",
      "        2020    20001\n",
      "dtype: int64\n",
      "city    year\n",
      "city_1  2010      100\n",
      "        2020      200\n",
      "city_3  2010    10001\n",
      "        2020    20001\n",
      "dtype: int64\n"
     ]
    }
   ],
   "source": [
    "data = {('city_1', 2010): 100,\n",
    "    ('city_1', 2020): 200,\n",
    "    ('city_2', 2010): 1001,\n",
    "    ('city_2', 2020): 2001,\n",
    "    ('city_3', 2010): 10001,\n",
    "    ('city_3', 2020): 20001,}\n",
    "s = pd.Series(data)\n",
    "s.index.names = ['city','year']\n",
    "\n",
    "print(s['city_1',2010])\n",
    "print(s['city_1'])\n",
    "\n",
    "print(s.loc['city_1':'city_2'])\n",
    "print(s[:,2010])\n",
    "\n",
    "print(s[s>2000])\n",
    "\n",
    "print(s.loc[['city_1','city_3']])"
   ]
  },
  {
   "cell_type": "code",
   "execution_count": 15,
   "id": "2348b02d-fe4c-4d14-a354-62fb1541b0a7",
   "metadata": {},
   "outputs": [
    {
     "name": "stdout",
     "output_type": "stream",
     "text": [
      "char  int\n",
      "a     1      0.039593\n",
      "      2      0.528589\n",
      "c     1      0.459336\n",
      "      2      0.062350\n",
      "b     1      0.641328\n",
      "      2      0.852633\n",
      "dtype: float64\n",
      "char  int\n",
      "a     1      0.039593\n",
      "      2      0.528589\n",
      "b     1      0.641328\n",
      "      2      0.852633\n",
      "c     1      0.459336\n",
      "      2      0.062350\n",
      "dtype: float64\n",
      "char  int\n",
      "a     1      0.039593\n",
      "      2      0.528589\n",
      "b     1      0.641328\n",
      "      2      0.852633\n",
      "dtype: float64\n"
     ]
    }
   ],
   "source": [
    "#перегруппировка мультииндексов \n",
    "index = pd.MultiIndex.from_product([['a','c','b'],[1,2]])\n",
    "\n",
    "data = pd.Series(rng.random(6), index = index)\n",
    "data.index.names = ['char', 'int']\n",
    "\n",
    "print(data)\n",
    "# print(data['a':'b'])   индексы не отсортированы\n",
    "\n",
    "data = data.sort_index()\n",
    "print(data)\n",
    "print(data['a':'b']) "
   ]
  },
  {
   "cell_type": "code",
   "execution_count": 16,
   "id": "dab19d4b-06fa-4d83-b087-a7e39cfea4a2",
   "metadata": {},
   "outputs": [
    {
     "name": "stdout",
     "output_type": "stream",
     "text": [
      "(city_1, 2010, 1)     101\n",
      "(city_1, 2010, 2)    1010\n",
      "(city_1, 2020, 1)     201\n",
      "(city_1, 2020, 2)    2010\n",
      "(city_2, 2010, 1)     102\n",
      "(city_2, 2010, 2)    1020\n",
      "(city_2, 2020, 1)     202\n",
      "(city_2, 2020, 2)    2020\n",
      "(city_3, 2010, 1)     102\n",
      "(city_3, 2010, 2)    1020\n",
      "(city_3, 2020, 1)     203\n",
      "(city_3, 2020, 2)    2030\n",
      "dtype: int64\n",
      "city_1  2010  1     101\n",
      "              2    1010\n",
      "        2020  1     201\n",
      "              2    2010\n",
      "city_2  2010  1     102\n",
      "              2    1020\n",
      "        2020  1     202\n",
      "              2    2020\n",
      "city_3  2010  1     102\n",
      "              2    1020\n",
      "        2020  1     203\n",
      "              2    2030\n",
      "dtype: int64\n",
      "               1     2\n",
      "city_1 2010  101  1010\n",
      "       2020  201  2010\n",
      "city_2 2010  102  1020\n",
      "       2020  202  2020\n",
      "city_3 2010  102  1020\n",
      "       2020  203  2030\n",
      "        city_1  city_2  city_3\n",
      "2010 1     101     102     102\n",
      "     2    1010    1020    1020\n",
      "2020 1     201     202     203\n",
      "     2    2010    2020    2030\n",
      "          2010  2020\n",
      "city_1 1   101   201\n",
      "       2  1010  2010\n",
      "city_2 1   102   202\n",
      "       2  1020  2020\n",
      "city_3 1   102   203\n",
      "       2  1020  2030\n",
      "               1     2\n",
      "city_1 2010  101  1010\n",
      "       2020  201  2010\n",
      "city_2 2010  102  1020\n",
      "       2020  202  2020\n",
      "city_3 2010  102  1020\n",
      "       2020  203  2030\n"
     ]
    }
   ],
   "source": [
    "population = [101,1010,201,2010,102,1020,202,2020,102,1020,203,2030]\n",
    "index = [('city_1', 2010, 1),\n",
    "    ('city_1', 2010, 2),\n",
    "    \n",
    "    ('city_1', 2020, 1),\n",
    "    ('city_1', 2020, 2),\n",
    "    \n",
    "    ('city_2', 2010, 1),\n",
    "    ('city_2', 2010, 2),\n",
    "    \n",
    "    ('city_2', 2020, 1),\n",
    "    ('city_2', 2020, 2),\n",
    "    \n",
    "    ('city_3', 2010, 1),\n",
    "    ('city_3', 2010, 2),\n",
    "    \n",
    "    ('city_3', 2020, 1),\n",
    "    ('city_3', 2020, 2)]\n",
    "\n",
    "pop = pd.Series(population, index=index)\n",
    "print(pop)\n",
    "i = pd.MultiIndex.from_tuples(index)\n",
    "pop = pop.reindex(i)\n",
    "\n",
    "print(pop)\n",
    "print(pop.unstack()) # dataframe\n",
    "\n",
    "print(pop.unstack(level = 0)) # столбцом становится индекс city\n",
    "print(pop.unstack(level = 1))\n",
    "print(pop.unstack(level = 2))"
   ]
  },
  {
   "cell_type": "code",
   "execution_count": 17,
   "id": "c2a881d5-d71e-499e-96d1-6bee7b3086ce",
   "metadata": {},
   "outputs": [
    {
     "name": "stdout",
     "output_type": "stream",
     "text": [
      "[1 2 3 4 5 6 7 8 9]\n",
      "[[1 2 3]\n",
      " [4 5 6]\n",
      " [7 8 9]]\n",
      "[[1 2 3]\n",
      " [4 5 6]\n",
      " [7 8 9]]\n",
      "[[1 2 3 4 5 6 7 8 9]]\n"
     ]
    }
   ],
   "source": [
    "# конктенация\n",
    "\n",
    "x = [1,2,3]\n",
    "y = [4,5,6]\n",
    "z = [7,8,9]\n",
    "print(np.concatenate([x,y,z]))\n",
    "\n",
    "x = [[1,2,3]]\n",
    "y = [[4,5,6]]\n",
    "z = [[7,8,9]]\n",
    "print(np.concatenate([x,y,z]))\n",
    "print(np.concatenate([x,y,z], axis=0))\n",
    "print(np.concatenate([x,y,z], axis=1))"
   ]
  },
  {
   "cell_type": "code",
   "execution_count": 18,
   "id": "d14c51ed-2482-40d4-bc77-830596ed95f7",
   "metadata": {},
   "outputs": [
    {
     "name": "stdout",
     "output_type": "stream",
     "text": [
      "1    a\n",
      "2    b\n",
      "3    c\n",
      "4    d\n",
      "5    e\n",
      "6    f\n",
      "dtype: object\n",
      "1    a\n",
      "2    b\n",
      "3    c\n",
      "1    d\n",
      "2    e\n",
      "6    f\n",
      "dtype: object\n",
      "0    a\n",
      "1    b\n",
      "2    c\n",
      "3    d\n",
      "4    e\n",
      "5    f\n",
      "dtype: object\n",
      "x  1    a\n",
      "   2    b\n",
      "   3    c\n",
      "y  1    d\n",
      "   2    e\n",
      "   6    f\n",
      "dtype: object\n",
      "1    a\n",
      "2    b\n",
      "3    c\n",
      "1    d\n",
      "2    e\n",
      "6    f\n",
      "dtype: object\n",
      "1    a\n",
      "2    b\n",
      "3    c\n",
      "1    d\n",
      "2    e\n",
      "6    f\n",
      "dtype: object\n"
     ]
    }
   ],
   "source": [
    "# pandas\n",
    "\n",
    "ser1 = pd.Series(['a','b','c'],index=[1,2,3])\n",
    "ser2 = pd.Series(['d','e','f'],index=[4,5,6])\n",
    "\n",
    "print(pd.concat([ser1,ser2]))\n",
    "\n",
    "ser1 = pd.Series(['a','b','c'],index=[1,2,3])\n",
    "ser2 = pd.Series(['d','e','f'],index=[1,2,6])\n",
    "\n",
    "print(pd.concat([ser1,ser2], verify_integrity=False)) #не повторяются\n",
    "print(pd.concat([ser1,ser2], ignore_index=True)) #свои индексы \n",
    "print(pd.concat([ser1,ser2], keys=['x','y']))\n",
    "\n",
    "print(pd.concat([ser1,ser2], join='outer'))\n",
    "print(pd.concat([ser1,ser2], join='inner'))"
   ]
  }
 ],
 "metadata": {
  "kernelspec": {
   "display_name": "Python 3 (ipykernel)",
   "language": "python",
   "name": "python3"
  },
  "language_info": {
   "codemirror_mode": {
    "name": "ipython",
    "version": 3
   },
   "file_extension": ".py",
   "mimetype": "text/x-python",
   "name": "python",
   "nbconvert_exporter": "python",
   "pygments_lexer": "ipython3",
   "version": "3.11.7"
  }
 },
 "nbformat": 4,
 "nbformat_minor": 5
}
